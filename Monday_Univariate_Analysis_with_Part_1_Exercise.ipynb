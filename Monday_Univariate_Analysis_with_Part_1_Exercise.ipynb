{
  "cells": [
    {
      "cell_type": "markdown",
      "metadata": {
        "id": "adeOETQPnPAj"
      },
      "source": [
        "<font color=\"green\">*To start working on this notebook, or any other notebook that we will use in the Moringa Data Science Course, we will need to save our own copy of it. We can do this by clicking File > Save a Copy in Drive. We will then be able to make edits to our own copy of this notebook.*</font>"
      ]
    },
    {
      "cell_type": "markdown",
      "metadata": {
        "id": "FtNfyN9C1FSE"
      },
      "source": [
        "# Univariate Analysis with Python - Exercise"
      ]
    },
    {
      "cell_type": "markdown",
      "metadata": {
        "id": "kLkivweO1Iii"
      },
      "source": [
        "## 1.0 Importing Libraries"
      ]
    },
    {
      "cell_type": "code",
      "execution_count": 2,
      "metadata": {
        "id": "7rB0TURq1Mfo"
      },
      "outputs": [],
      "source": [
        "# Importing Pandas\n",
        "#\n",
        "import pandas as pd"
      ]
    },
    {
      "cell_type": "code",
      "execution_count": 3,
      "metadata": {
        "id": "J7sTS1pS6w17"
      },
      "outputs": [],
      "source": [
        "# Importing Numpy\n",
        "#\n",
        "import numpy as np"
      ]
    },
    {
      "cell_type": "code",
      "execution_count": 4,
      "metadata": {
        "id": "T7fU_A8G3j2c"
      },
      "outputs": [],
      "source": [
        "# Importing Seaborn\n",
        "#\n",
        "import seaborn as sns"
      ]
    },
    {
      "cell_type": "code",
      "execution_count": 5,
      "metadata": {
        "id": "h9m2KAfqKr_R"
      },
      "outputs": [],
      "source": [
        "# Importing Matplotlib\n",
        "#\n",
        "import matplotlib.pyplot as plt"
      ]
    },
    {
      "cell_type": "markdown",
      "metadata": {
        "id": "InrgA2D21MCl"
      },
      "source": [
        "## 1.2 Categorical Variables"
      ]
    },
    {
      "cell_type": "markdown",
      "metadata": {
        "id": "0CRs-dFC1ohx"
      },
      "source": [
        "### 1.21 Frequency Tables"
      ]
    },
    {
      "cell_type": "code",
      "execution_count": 6,
      "metadata": {
        "id": "S1BPZ36A1LiF",
        "colab": {
          "base_uri": "https://localhost:8080/"
        },
        "outputId": "b0b42e4c-8d59-44b2-cefe-87e686319eeb"
      },
      "outputs": [
        {
          "output_type": "execute_result",
          "data": {
            "text/plain": [
              "Mombasa    4\n",
              "Nairobi    3\n",
              "Kiambu     3\n",
              "Kisumu     2\n",
              "Name: County, dtype: int64"
            ]
          },
          "metadata": {},
          "execution_count": 6
        }
      ],
      "source": [
        "# Example 1\n",
        "# ---\n",
        "# Creating Frequency table of column using the value_counts() function\n",
        "# ---\n",
        "#\n",
        "\n",
        "data = {'Name':['John', 'Paul', 'Jame','Mark', 'Susan', 'Ruth', 'Ragna', 'Irene', 'Gilbert', 'Esther', 'Salome', 'Moses'],\n",
        "       'County':['Nairobi', 'Kiambu', 'Mombasa', 'Kisumu', 'Kiambu', 'Mombasa', 'Nairobi', 'Mombasa', 'Kisumu', 'Nairobi', 'Kiambu','Mombasa']}\n",
        "\n",
        "# Creating our dataframe\n",
        "frequency_df = pd.DataFrame(data, columns=['Name', 'County'])\n",
        "frequency_df\n",
        "\n",
        "# Creating our frequency table\n",
        "# ---\n",
        "frequency_df.County.value_counts()\n",
        "#frequency_df.Name.value_counts()"
      ]
    },
    {
      "cell_type": "markdown",
      "metadata": {
        "id": "ck0zE_a43uV-"
      },
      "source": [
        "#### <font color=\"green\">1.21 Challenges</font>"
      ]
    },
    {
      "cell_type": "code",
      "execution_count": 7,
      "metadata": {
        "id": "UNbhFPzR33L6"
      },
      "outputs": [],
      "source": [
        "# Challenge 1\n",
        "# ---\n",
        "# Question: Generate a frequency table from the categorical data in the following dataset\n",
        "# ---\n",
        "# Dataset url = http://bit.ly/IrisDataset\n",
        "# ---\n",
        "#\n",
        "# Lets read the dataset\n",
        "data = 'http://bit.ly/IrisDataset'\n",
        "\n",
        "def read(a):\n",
        "    return pd.read_csv(a)\n",
        "\n",
        "\n",
        "iris = read(data)"
      ]
    },
    {
      "cell_type": "code",
      "execution_count": 8,
      "metadata": {
        "id": "HAB-eQWQSq5y",
        "outputId": "2d44ea88-f782-4114-f959-7c044ec9c09c",
        "colab": {
          "base_uri": "https://localhost:8080/",
          "height": 0
        }
      },
      "outputs": [
        {
          "output_type": "execute_result",
          "data": {
            "text/plain": [
              "   sepal_length  sepal_width  petal_length  petal_width      species\n",
              "0           5.1          3.5           1.4          0.2  Iris-setosa\n",
              "1           4.9          3.0           1.4          0.2  Iris-setosa\n",
              "2           4.7          3.2           1.3          0.2  Iris-setosa\n",
              "3           4.6          3.1           1.5          0.2  Iris-setosa\n",
              "4           5.0          3.6           1.4          0.2  Iris-setosa"
            ],
            "text/html": [
              "\n",
              "  <div id=\"df-eeb39985-a907-4e38-b70a-88448727ffef\" class=\"colab-df-container\">\n",
              "    <div>\n",
              "<style scoped>\n",
              "    .dataframe tbody tr th:only-of-type {\n",
              "        vertical-align: middle;\n",
              "    }\n",
              "\n",
              "    .dataframe tbody tr th {\n",
              "        vertical-align: top;\n",
              "    }\n",
              "\n",
              "    .dataframe thead th {\n",
              "        text-align: right;\n",
              "    }\n",
              "</style>\n",
              "<table border=\"1\" class=\"dataframe\">\n",
              "  <thead>\n",
              "    <tr style=\"text-align: right;\">\n",
              "      <th></th>\n",
              "      <th>sepal_length</th>\n",
              "      <th>sepal_width</th>\n",
              "      <th>petal_length</th>\n",
              "      <th>petal_width</th>\n",
              "      <th>species</th>\n",
              "    </tr>\n",
              "  </thead>\n",
              "  <tbody>\n",
              "    <tr>\n",
              "      <th>0</th>\n",
              "      <td>5.1</td>\n",
              "      <td>3.5</td>\n",
              "      <td>1.4</td>\n",
              "      <td>0.2</td>\n",
              "      <td>Iris-setosa</td>\n",
              "    </tr>\n",
              "    <tr>\n",
              "      <th>1</th>\n",
              "      <td>4.9</td>\n",
              "      <td>3.0</td>\n",
              "      <td>1.4</td>\n",
              "      <td>0.2</td>\n",
              "      <td>Iris-setosa</td>\n",
              "    </tr>\n",
              "    <tr>\n",
              "      <th>2</th>\n",
              "      <td>4.7</td>\n",
              "      <td>3.2</td>\n",
              "      <td>1.3</td>\n",
              "      <td>0.2</td>\n",
              "      <td>Iris-setosa</td>\n",
              "    </tr>\n",
              "    <tr>\n",
              "      <th>3</th>\n",
              "      <td>4.6</td>\n",
              "      <td>3.1</td>\n",
              "      <td>1.5</td>\n",
              "      <td>0.2</td>\n",
              "      <td>Iris-setosa</td>\n",
              "    </tr>\n",
              "    <tr>\n",
              "      <th>4</th>\n",
              "      <td>5.0</td>\n",
              "      <td>3.6</td>\n",
              "      <td>1.4</td>\n",
              "      <td>0.2</td>\n",
              "      <td>Iris-setosa</td>\n",
              "    </tr>\n",
              "  </tbody>\n",
              "</table>\n",
              "</div>\n",
              "    <div class=\"colab-df-buttons\">\n",
              "\n",
              "  <div class=\"colab-df-container\">\n",
              "    <button class=\"colab-df-convert\" onclick=\"convertToInteractive('df-eeb39985-a907-4e38-b70a-88448727ffef')\"\n",
              "            title=\"Convert this dataframe to an interactive table.\"\n",
              "            style=\"display:none;\">\n",
              "\n",
              "  <svg xmlns=\"http://www.w3.org/2000/svg\" height=\"24px\" viewBox=\"0 -960 960 960\">\n",
              "    <path d=\"M120-120v-720h720v720H120Zm60-500h600v-160H180v160Zm220 220h160v-160H400v160Zm0 220h160v-160H400v160ZM180-400h160v-160H180v160Zm440 0h160v-160H620v160ZM180-180h160v-160H180v160Zm440 0h160v-160H620v160Z\"/>\n",
              "  </svg>\n",
              "    </button>\n",
              "\n",
              "  <style>\n",
              "    .colab-df-container {\n",
              "      display:flex;\n",
              "      gap: 12px;\n",
              "    }\n",
              "\n",
              "    .colab-df-convert {\n",
              "      background-color: #E8F0FE;\n",
              "      border: none;\n",
              "      border-radius: 50%;\n",
              "      cursor: pointer;\n",
              "      display: none;\n",
              "      fill: #1967D2;\n",
              "      height: 32px;\n",
              "      padding: 0 0 0 0;\n",
              "      width: 32px;\n",
              "    }\n",
              "\n",
              "    .colab-df-convert:hover {\n",
              "      background-color: #E2EBFA;\n",
              "      box-shadow: 0px 1px 2px rgba(60, 64, 67, 0.3), 0px 1px 3px 1px rgba(60, 64, 67, 0.15);\n",
              "      fill: #174EA6;\n",
              "    }\n",
              "\n",
              "    .colab-df-buttons div {\n",
              "      margin-bottom: 4px;\n",
              "    }\n",
              "\n",
              "    [theme=dark] .colab-df-convert {\n",
              "      background-color: #3B4455;\n",
              "      fill: #D2E3FC;\n",
              "    }\n",
              "\n",
              "    [theme=dark] .colab-df-convert:hover {\n",
              "      background-color: #434B5C;\n",
              "      box-shadow: 0px 1px 3px 1px rgba(0, 0, 0, 0.15);\n",
              "      filter: drop-shadow(0px 1px 2px rgba(0, 0, 0, 0.3));\n",
              "      fill: #FFFFFF;\n",
              "    }\n",
              "  </style>\n",
              "\n",
              "    <script>\n",
              "      const buttonEl =\n",
              "        document.querySelector('#df-eeb39985-a907-4e38-b70a-88448727ffef button.colab-df-convert');\n",
              "      buttonEl.style.display =\n",
              "        google.colab.kernel.accessAllowed ? 'block' : 'none';\n",
              "\n",
              "      async function convertToInteractive(key) {\n",
              "        const element = document.querySelector('#df-eeb39985-a907-4e38-b70a-88448727ffef');\n",
              "        const dataTable =\n",
              "          await google.colab.kernel.invokeFunction('convertToInteractive',\n",
              "                                                    [key], {});\n",
              "        if (!dataTable) return;\n",
              "\n",
              "        const docLinkHtml = 'Like what you see? Visit the ' +\n",
              "          '<a target=\"_blank\" href=https://colab.research.google.com/notebooks/data_table.ipynb>data table notebook</a>'\n",
              "          + ' to learn more about interactive tables.';\n",
              "        element.innerHTML = '';\n",
              "        dataTable['output_type'] = 'display_data';\n",
              "        await google.colab.output.renderOutput(dataTable, element);\n",
              "        const docLink = document.createElement('div');\n",
              "        docLink.innerHTML = docLinkHtml;\n",
              "        element.appendChild(docLink);\n",
              "      }\n",
              "    </script>\n",
              "  </div>\n",
              "\n",
              "\n",
              "<div id=\"df-5e028ad8-2e15-461c-924c-8b77b57982fa\">\n",
              "  <button class=\"colab-df-quickchart\" onclick=\"quickchart('df-5e028ad8-2e15-461c-924c-8b77b57982fa')\"\n",
              "            title=\"Suggest charts\"\n",
              "            style=\"display:none;\">\n",
              "\n",
              "<svg xmlns=\"http://www.w3.org/2000/svg\" height=\"24px\"viewBox=\"0 0 24 24\"\n",
              "     width=\"24px\">\n",
              "    <g>\n",
              "        <path d=\"M19 3H5c-1.1 0-2 .9-2 2v14c0 1.1.9 2 2 2h14c1.1 0 2-.9 2-2V5c0-1.1-.9-2-2-2zM9 17H7v-7h2v7zm4 0h-2V7h2v10zm4 0h-2v-4h2v4z\"/>\n",
              "    </g>\n",
              "</svg>\n",
              "  </button>\n",
              "\n",
              "<style>\n",
              "  .colab-df-quickchart {\n",
              "      --bg-color: #E8F0FE;\n",
              "      --fill-color: #1967D2;\n",
              "      --hover-bg-color: #E2EBFA;\n",
              "      --hover-fill-color: #174EA6;\n",
              "      --disabled-fill-color: #AAA;\n",
              "      --disabled-bg-color: #DDD;\n",
              "  }\n",
              "\n",
              "  [theme=dark] .colab-df-quickchart {\n",
              "      --bg-color: #3B4455;\n",
              "      --fill-color: #D2E3FC;\n",
              "      --hover-bg-color: #434B5C;\n",
              "      --hover-fill-color: #FFFFFF;\n",
              "      --disabled-bg-color: #3B4455;\n",
              "      --disabled-fill-color: #666;\n",
              "  }\n",
              "\n",
              "  .colab-df-quickchart {\n",
              "    background-color: var(--bg-color);\n",
              "    border: none;\n",
              "    border-radius: 50%;\n",
              "    cursor: pointer;\n",
              "    display: none;\n",
              "    fill: var(--fill-color);\n",
              "    height: 32px;\n",
              "    padding: 0;\n",
              "    width: 32px;\n",
              "  }\n",
              "\n",
              "  .colab-df-quickchart:hover {\n",
              "    background-color: var(--hover-bg-color);\n",
              "    box-shadow: 0 1px 2px rgba(60, 64, 67, 0.3), 0 1px 3px 1px rgba(60, 64, 67, 0.15);\n",
              "    fill: var(--button-hover-fill-color);\n",
              "  }\n",
              "\n",
              "  .colab-df-quickchart-complete:disabled,\n",
              "  .colab-df-quickchart-complete:disabled:hover {\n",
              "    background-color: var(--disabled-bg-color);\n",
              "    fill: var(--disabled-fill-color);\n",
              "    box-shadow: none;\n",
              "  }\n",
              "\n",
              "  .colab-df-spinner {\n",
              "    border: 2px solid var(--fill-color);\n",
              "    border-color: transparent;\n",
              "    border-bottom-color: var(--fill-color);\n",
              "    animation:\n",
              "      spin 1s steps(1) infinite;\n",
              "  }\n",
              "\n",
              "  @keyframes spin {\n",
              "    0% {\n",
              "      border-color: transparent;\n",
              "      border-bottom-color: var(--fill-color);\n",
              "      border-left-color: var(--fill-color);\n",
              "    }\n",
              "    20% {\n",
              "      border-color: transparent;\n",
              "      border-left-color: var(--fill-color);\n",
              "      border-top-color: var(--fill-color);\n",
              "    }\n",
              "    30% {\n",
              "      border-color: transparent;\n",
              "      border-left-color: var(--fill-color);\n",
              "      border-top-color: var(--fill-color);\n",
              "      border-right-color: var(--fill-color);\n",
              "    }\n",
              "    40% {\n",
              "      border-color: transparent;\n",
              "      border-right-color: var(--fill-color);\n",
              "      border-top-color: var(--fill-color);\n",
              "    }\n",
              "    60% {\n",
              "      border-color: transparent;\n",
              "      border-right-color: var(--fill-color);\n",
              "    }\n",
              "    80% {\n",
              "      border-color: transparent;\n",
              "      border-right-color: var(--fill-color);\n",
              "      border-bottom-color: var(--fill-color);\n",
              "    }\n",
              "    90% {\n",
              "      border-color: transparent;\n",
              "      border-bottom-color: var(--fill-color);\n",
              "    }\n",
              "  }\n",
              "</style>\n",
              "\n",
              "  <script>\n",
              "    async function quickchart(key) {\n",
              "      const quickchartButtonEl =\n",
              "        document.querySelector('#' + key + ' button');\n",
              "      quickchartButtonEl.disabled = true;  // To prevent multiple clicks.\n",
              "      quickchartButtonEl.classList.add('colab-df-spinner');\n",
              "      try {\n",
              "        const charts = await google.colab.kernel.invokeFunction(\n",
              "            'suggestCharts', [key], {});\n",
              "      } catch (error) {\n",
              "        console.error('Error during call to suggestCharts:', error);\n",
              "      }\n",
              "      quickchartButtonEl.classList.remove('colab-df-spinner');\n",
              "      quickchartButtonEl.classList.add('colab-df-quickchart-complete');\n",
              "    }\n",
              "    (() => {\n",
              "      let quickchartButtonEl =\n",
              "        document.querySelector('#df-5e028ad8-2e15-461c-924c-8b77b57982fa button');\n",
              "      quickchartButtonEl.style.display =\n",
              "        google.colab.kernel.accessAllowed ? 'block' : 'none';\n",
              "    })();\n",
              "  </script>\n",
              "</div>\n",
              "\n",
              "    </div>\n",
              "  </div>\n"
            ],
            "application/vnd.google.colaboratory.intrinsic+json": {
              "type": "dataframe",
              "variable_name": "iris",
              "summary": "{\n  \"name\": \"iris\",\n  \"rows\": 150,\n  \"fields\": [\n    {\n      \"column\": \"sepal_length\",\n      \"properties\": {\n        \"dtype\": \"number\",\n        \"std\": 0.828066127977863,\n        \"min\": 4.3,\n        \"max\": 7.9,\n        \"num_unique_values\": 35,\n        \"samples\": [\n          6.2,\n          4.5,\n          5.6\n        ],\n        \"semantic_type\": \"\",\n        \"description\": \"\"\n      }\n    },\n    {\n      \"column\": \"sepal_width\",\n      \"properties\": {\n        \"dtype\": \"number\",\n        \"std\": 0.4335943113621737,\n        \"min\": 2.0,\n        \"max\": 4.4,\n        \"num_unique_values\": 23,\n        \"samples\": [\n          2.3,\n          4.0,\n          3.5\n        ],\n        \"semantic_type\": \"\",\n        \"description\": \"\"\n      }\n    },\n    {\n      \"column\": \"petal_length\",\n      \"properties\": {\n        \"dtype\": \"number\",\n        \"std\": 1.7644204199522626,\n        \"min\": 1.0,\n        \"max\": 6.9,\n        \"num_unique_values\": 43,\n        \"samples\": [\n          6.7,\n          3.8,\n          3.7\n        ],\n        \"semantic_type\": \"\",\n        \"description\": \"\"\n      }\n    },\n    {\n      \"column\": \"petal_width\",\n      \"properties\": {\n        \"dtype\": \"number\",\n        \"std\": 0.7631607417008411,\n        \"min\": 0.1,\n        \"max\": 2.5,\n        \"num_unique_values\": 22,\n        \"samples\": [\n          0.2,\n          1.2,\n          1.3\n        ],\n        \"semantic_type\": \"\",\n        \"description\": \"\"\n      }\n    },\n    {\n      \"column\": \"species\",\n      \"properties\": {\n        \"dtype\": \"category\",\n        \"num_unique_values\": 3,\n        \"samples\": [\n          \"Iris-setosa\",\n          \"Iris-versicolor\",\n          \"Iris-virginica\"\n        ],\n        \"semantic_type\": \"\",\n        \"description\": \"\"\n      }\n    }\n  ]\n}"
            }
          },
          "metadata": {},
          "execution_count": 8
        }
      ],
      "source": [
        "iris.head()"
      ]
    },
    {
      "cell_type": "code",
      "execution_count": 9,
      "metadata": {
        "colab": {
          "base_uri": "https://localhost:8080/"
        },
        "id": "J9_resktSq5y",
        "outputId": "50fa43c5-a896-4fd3-aa4a-24471f08d2a1"
      },
      "outputs": [
        {
          "output_type": "execute_result",
          "data": {
            "text/plain": [
              "Iris-setosa        50\n",
              "Iris-versicolor    50\n",
              "Iris-virginica     50\n",
              "Name: species, dtype: int64"
            ]
          },
          "metadata": {},
          "execution_count": 9
        }
      ],
      "source": [
        "# Frequency table\n",
        "iris['species'].value_counts()"
      ]
    },
    {
      "cell_type": "markdown",
      "metadata": {
        "id": "NCrhoYJz1dUY"
      },
      "source": [
        "### 1.22 Bar Charts and Histograms"
      ]
    },
    {
      "cell_type": "code",
      "execution_count": 10,
      "metadata": {
        "id": "_3kf4a5q1ylu",
        "colab": {
          "base_uri": "https://localhost:8080/",
          "height": 0
        },
        "outputId": "90ea12b7-f30c-488c-d9b2-abc33cf3b36e"
      },
      "outputs": [
        {
          "output_type": "display_data",
          "data": {
            "text/plain": [
              "<Figure size 640x480 with 1 Axes>"
            ],
            "image/png": "[encoded data removed]"
          },
          "metadata": {}
        }
      ],
      "source": [
        "# Example 1\n",
        "# ---\n",
        "# Bar charts are used to display values associated with categorical data.\n",
        "# ---\n",
        "#\n",
        "\n",
        "# Defining our data\n",
        "x = ['Nuclear', 'Hydro', 'Gas', 'Oil', 'Coal', 'Biofuel']\n",
        "energy = [5, 6, 15, 22, 24, 8]\n",
        "\n",
        "\n",
        "plt.bar(x, energy, color='green')\n",
        "\n",
        "# Labelling our x axis\n",
        "plt.xlabel(\"Energy Source\")\n",
        "\n",
        "# Labelling our y axis\n",
        "plt.ylabel(\"Energy Output (GJ)\")\n",
        "\n",
        "# Giving a title to our Bar chart\n",
        "plt.title(\"Energy output from various fuel sources\")\n",
        "\n",
        "# Displaying our chart\n",
        "plt.show()"
      ]
    },
    {
      "cell_type": "code",
      "execution_count": 11,
      "metadata": {
        "id": "RWgB6pZg3-o6",
        "colab": {
          "base_uri": "https://localhost:8080/",
          "height": 0
        },
        "outputId": "9805179c-915d-4951-fc9a-7c24ff57eb28"
      },
      "outputs": [
        {
          "output_type": "display_data",
          "data": {
            "text/plain": [
              "<Figure size 640x480 with 1 Axes>"
            ],
            "image/png": "[encoded data removed]"
          },
          "metadata": {}
        }
      ],
      "source": [
        "# Example 2\n",
        "# ---\n",
        "# We can also create the exact same chart horizontally as shown\n",
        "# ---\n",
        "#\n",
        "\n",
        "x = ['Nuclear', 'Hydro', 'Gas', 'Oil', 'Coal', 'Biofuel']\n",
        "energy = [15, 16, 25, 32, 34, 18]\n",
        "\n",
        "plt.barh(x, energy,color = 'red')\n",
        "plt.ylabel(\"Energy Source\")\n",
        "plt.xlabel(\"Energy Output (GJ)\")\n",
        "plt.title(\"Energy output from various fuel sources\")\n",
        "plt.show()"
      ]
    },
    {
      "cell_type": "code",
      "execution_count": 12,
      "metadata": {
        "id": "n21agJh93_w0",
        "colab": {
          "base_uri": "https://localhost:8080/",
          "height": 0
        },
        "outputId": "70b7f3d1-c294-4dc7-aaef-78ffcf3e158e"
      },
      "outputs": [
        {
          "output_type": "display_data",
          "data": {
            "text/plain": [
              "<Figure size 640x480 with 1 Axes>"
            ],
            "image/png": "[encoded data removed]"
          },
          "metadata": {}
        }
      ],
      "source": [
        "# Example 3\n",
        "# ---\n",
        "# Very much like a bar chart, histograms tend to show distribution by grouping segments together.\n",
        "# Examples of this might be age groups, or scores on a test.\n",
        "# Rather than showing every single age a group might be, maybe you just show people from 20-25, 25-30... and so on.\n",
        "# ---\n",
        "#\n",
        "\n",
        "population_ages = [22, 55, 62, 45, 21, 22, 34, 42, 42, 4, 99, 102, 110, 120, 121, 122, 130, 111, 115, 112, 80, 75, 65, 54, 44, 43, 42, 48]\n",
        "bins            = [0, 10, 20, 30, 40, 50, 60, 70, 80, 90, 100, 110, 120, 130]\n",
        "\n",
        "plt.hist(population_ages, bins=10, histtype='bar', rwidth=0.9)\n",
        "\n",
        "plt.xlabel('x')\n",
        "plt.ylabel('y')\n",
        "plt.title('Histogram of Population')\n",
        "plt.show()"
      ]
    },
    {
      "cell_type": "code",
      "execution_count": 13,
      "metadata": {
        "id": "eGXHLiBY8jbI",
        "colab": {
          "base_uri": "https://localhost:8080/",
          "height": 0
        },
        "outputId": "512d22f4-a479-4e18-f79f-ea667608c789"
      },
      "outputs": [
        {
          "output_type": "display_data",
          "data": {
            "text/plain": [
              "<Figure size 640x480 with 1 Axes>"
            ],
            "image/png": "[encoded data removed]"
          },
          "metadata": {}
        }
      ],
      "source": [
        "# Example 4\n",
        "# ---\n",
        "# Creating a histogram from a given dataset using values from the points column\n",
        "# ---\n",
        "# Dataset url = http://bit.ly/WineDataset\n",
        "# ---\n",
        "#\n",
        "\n",
        "# Loading out dataset\n",
        "wine_df = pd.read_csv(\"http://bit.ly/WineDataset\")\n",
        "\n",
        "wine_points = wine_df['points']\n",
        "\n",
        "plt.hist(wine_points, bins=10, histtype='bar', rwidth=0.9)\n",
        "plt.xlabel('No. of Wines')\n",
        "plt.ylabel('Quantity')\n",
        "plt.title('Histogram of Points of Wine vs No. of Wines')\n",
        "plt.show()"
      ]
    },
    {
      "cell_type": "markdown",
      "metadata": {
        "id": "jRKV0pa04BQH"
      },
      "source": [
        "#### <font color=\"green\">1.22 Challenges</font>"
      ]
    },
    {
      "cell_type": "code",
      "execution_count": 14,
      "metadata": {
        "id": "VWgtpnM54Mf7",
        "colab": {
          "base_uri": "https://localhost:8080/",
          "height": 0
        },
        "outputId": "815f9616-900e-4aad-9724-922b617c9038"
      },
      "outputs": [
        {
          "output_type": "display_data",
          "data": {
            "text/plain": [
              "<Figure size 640x480 with 1 Axes>"
            ],
            "image/png": "[encoded data removed]"
          },
          "metadata": {}
        }
      ],
      "source": [
        "# Challenge 1\n",
        "# ---\n",
        "# Question: Create a bar chart given the following dataset\n",
        "# ---\n",
        "#\n",
        "languages = ('Python', 'C++', 'Java', 'Perl', 'Scala', 'Lisp')\n",
        "performance = [20, 18, 66, 14, 12, 11]\n",
        "\n",
        "plt.bar(languages,performance,color='violet')\n",
        "plt.xlabel('Programming Languages')\n",
        "plt.ylabel('Perfomaces')\n",
        "plt.title('Bar graph of Programming Languages and how they are perfomed')\n",
        "plt.show()"
      ]
    },
    {
      "cell_type": "code",
      "execution_count": 15,
      "metadata": {
        "id": "FUy2tpOl4Nax",
        "outputId": "d7456305-40cd-4d8b-b1a8-b13a118b54da",
        "colab": {
          "base_uri": "https://localhost:8080/",
          "height": 0
        }
      },
      "outputs": [
        {
          "output_type": "display_data",
          "data": {
            "text/plain": [
              "<Figure size 640x480 with 1 Axes>"
            ],
            "image/png": "[encoded data removed]"
          },
          "metadata": {}
        }
      ],
      "source": [
        "# Challenge 2\n",
        "# ---\n",
        "# Question: Create a histogram from the following data\n",
        "# ---\n",
        "#\n",
        "x = [21, 22, 23, 4, 5, 6, 77, 8, 9, 10, 31, 32, 33, 34, 35, 36, 37, 18, 49, 50, 100]\n",
        "num_bins = 5\n",
        "\n",
        "plt.hist(x,bins=num_bins,histtype='bar',rwidth= 0.9)\n",
        "plt.show()"
      ]
    },
    {
      "cell_type": "code",
      "execution_count": 16,
      "metadata": {
        "id": "UXYA0eoB09kd",
        "colab": {
          "base_uri": "https://localhost:8080/",
          "height": 0
        },
        "outputId": "87a27e8b-b186-47ba-ce65-4204f4fc6eb0"
      },
      "outputs": [
        {
          "output_type": "display_data",
          "data": {
            "text/plain": [
              "<Figure size 640x480 with 1 Axes>"
            ],
            "image/png": "[encoded data removed]"
          },
          "metadata": {}
        }
      ],
      "source": [
        "# Example 1\n",
        "# ---\n",
        "# Question: Create a pie chart usig the sizes list given below\n",
        "# ---\n",
        "#\n",
        "\n",
        "# Defining our labels, sizes, colors and explode (this will explode the 1st slice)\n",
        "labels = 'Python', 'C++', 'Ruby', 'Java'\n",
        "sizes  = [215, 130, 245, 210]\n",
        "colors = ['gold', 'yellowgreen', 'lightcoral', 'lightskyblue']\n",
        "\n",
        "# Highlights a particular Value in plot\n",
        "explode = (0.1, 0, 0, 0)\n",
        "\n",
        "# Plotting our pie chart\n",
        "plt.pie(sizes, explode=explode, labels=labels, colors=colors,\n",
        "autopct='%1.1f%%', startangle= 140)\n",
        "\n",
        "plt.axis('equal')\n",
        "plt.title('Pie Chart of Programming Languages')\n",
        "plt.show()"
      ]
    },
    {
      "cell_type": "code",
      "execution_count": 17,
      "metadata": {
        "id": "eQV9iT2u4Po_",
        "colab": {
          "base_uri": "https://localhost:8080/",
          "height": 0
        },
        "outputId": "46cab962-7141-4df1-a4f6-79eea132c1d4"
      },
      "outputs": [
        {
          "output_type": "display_data",
          "data": {
            "text/plain": [
              "<Figure size 640x480 with 1 Axes>"
            ],
            "image/png": "[encoded data removed]"
          },
          "metadata": {}
        }
      ],
      "source": [
        "# Challenge 3\n",
        "# ---\n",
        "# Question: Create a histogram from a given dataset using values from the sepal length column\n",
        "# ---\n",
        "# Dataset url = http://bit.ly/IrisDataset\n",
        "# ---\n",
        "# Read data\n",
        "data = 'http://bit.ly/IrisDataset'\n",
        "\n",
        "iris  = read(data)\n",
        "iris\n",
        "\n",
        "plt.hist(iris['sepal_length'], histtype = 'bar', rwidth = 0.9, bins = 5)\n",
        "plt.title('Histogram of sepal Length')\n",
        "plt.xlabel('Sepal Length')\n",
        "plt.show()"
      ]
    },
    {
      "cell_type": "markdown",
      "metadata": {
        "id": "yXH8QAl71vLq"
      },
      "source": [
        "### 1.23 Pie Charts"
      ]
    },
    {
      "cell_type": "code",
      "execution_count": 18,
      "metadata": {
        "id": "4IIwpXsF4To9",
        "outputId": "141a17b4-fc28-4d38-934d-edd24c0ab2b1",
        "colab": {
          "base_uri": "https://localhost:8080/",
          "height": 428
        }
      },
      "outputs": [
        {
          "output_type": "display_data",
          "data": {
            "text/plain": [
              "<Figure size 640x480 with 1 Axes>"
            ],
            "image/png": "[encoded data removed]"
          },
          "metadata": {}
        }
      ],
      "source": [
        "# Example 2\n",
        "# ---\n",
        "# Question: Create a pie chart to show the distribution of age and population\n",
        "# ---\n",
        "#\n",
        "\n",
        "# Loading out dataset\n",
        "df = pd.read_csv(\"http://bit.ly/AgePopulationDataset\")\n",
        "\n",
        "# Previewing the dataset\n",
        "df.head()\n",
        "\n",
        "# Assigning our columns to population and age variables\n",
        "population = df['population']\n",
        "age        = df['age']\n",
        "\n",
        "# Plotting our pie chart\n",
        "# -------\n",
        "plt.pie(population, labels = age, autopct = '%1.1f%%', shadow = True, startangle = 140)\n",
        "plt.axis('equal')\n",
        "plt.title('Pie Chart of Age population')\n",
        "plt.show()"
      ]
    },
    {
      "cell_type": "markdown",
      "metadata": {
        "id": "6lNbN0xS4XAY"
      },
      "source": [
        "#### <font color=\"green\">1.23 Challenges</font>"
      ]
    },
    {
      "cell_type": "code",
      "execution_count": 19,
      "metadata": {
        "id": "SDYT8o0U4WE9",
        "outputId": "16dfb048-76fa-44e8-9f52-5279dd99d34d",
        "colab": {
          "base_uri": "https://localhost:8080/",
          "height": 428
        }
      },
      "outputs": [
        {
          "output_type": "display_data",
          "data": {
            "text/plain": [
              "<Figure size 640x480 with 1 Axes>"
            ],
            "image/png": "[encoded data removed]"
          },
          "metadata": {}
        }
      ],
      "source": [
        "# Challenge 1\n",
        "# ---\n",
        "# Question: Create a pie chart of county population given the following\n",
        "# ---\n",
        "#\n",
        "\n",
        "county_population = [12344408, 2441523, 30523371, 110012442, 47886051]\n",
        "counties = ['Thika', 'Mombasa', 'Kisumu', 'Nairobi', 'Nakuru']\n",
        "explode = (0,0,0,0.2,0)\n",
        "color = ('red','yellow','green','orange','blue')\n",
        "plt.pie(county_population,labels=counties,explode=explode,colors=color,autopct='%1.1f%%',\n",
        "startangle=140)\n",
        "plt.axis('equal')\n",
        "plt.title('Pie Chart of County_Population')\n",
        "plt.show()"
      ]
    },
    {
      "cell_type": "code",
      "execution_count": 20,
      "metadata": {
        "id": "xRcsBrgL4jDB",
        "colab": {
          "base_uri": "https://localhost:8080/",
          "height": 406
        },
        "outputId": "7666345f-2c55-4379-d05f-42803f0df8f4"
      },
      "outputs": [
        {
          "output_type": "display_data",
          "data": {
            "text/plain": [
              "<Figure size 640x480 with 1 Axes>"
            ],
            "image/png": "[encoded data removed]"
          },
          "metadata": {}
        }
      ],
      "source": [
        "# Challenge 2\n",
        "# ---\n",
        "# Question: Acting as Chief Data Strategist for a ride sharing company,\n",
        "# you are expected to offer data-backed guidance on new opportunities for market differentiation.\n",
        "# Merge the two datasets into a single dataset based on the cities they share then\n",
        "# produce the following pie chart: Pie Chart of % of Total Fares by City Type.\n",
        "# Hint: When making the pie Chart, experiment with effects like shadow, startangle, and explosion\n",
        "# ---\n",
        "# Dataset 1 url = http://bit.ly/City-RideDataset\n",
        "# Dataset 2 url = http://bit.ly/RideDataset\n",
        "# ---\n",
        "\n",
        "# Lets read the data\n",
        "city_dataset = 'http://bit.ly/City-RideDataset'\n",
        "ride_dataset = 'http://bit.ly/RideDataset'\n",
        "\n",
        "city = read(city_dataset)\n",
        "ride = read(ride_dataset)\n",
        "\n",
        "merged = pd.merge(city, ride, on = ['city'])\n",
        "\n",
        "city_fare = merged.groupby('type')['fare'].sum().reset_index()\n",
        "colour = ('blue', 'green', 'red')\n",
        "\n",
        "fare =city_fare['fare']\n",
        "\n",
        "labels = city_fare['type']\n",
        "\n",
        "explode = (0,0.1,0)\n",
        "\n",
        "plt.pie(fare,labels = labels, colors = colour, autopct='%1.1f%%', explode = explode, shadow = True, startangle = 0 )\n",
        "\n",
        "plt.show()\n"
      ]
    },
    {
      "cell_type": "code",
      "execution_count": 21,
      "metadata": {
        "id": "EpTRmGQF4kyA",
        "colab": {
          "base_uri": "https://localhost:8080/",
          "height": 428
        },
        "outputId": "378e84c8-65b7-43a3-8300-1c7474fae6e0"
      },
      "outputs": [
        {
          "output_type": "display_data",
          "data": {
            "text/plain": [
              "<Figure size 640x480 with 1 Axes>"
            ],
            "image/png": "[encoded data removed]"
          },
          "metadata": {}
        }
      ],
      "source": [
        "# Challenge 3\n",
        "# ---\n",
        "# Question: From the combined dataset in Challenge 2,\n",
        "# create a pie chart of % of Total Rides by City Type\n",
        "# ---\n",
        "#\n",
        "city_ride = merged.groupby('type').size().reset_index(name = 'no of rides')\n",
        "color = ('Purple', 'Red', 'Yellow')\n",
        "explode = (0,0.1,0)\n",
        "labels = city_ride['type']\n",
        "\n",
        "plt.pie(city_ride['no of rides'],labels = labels, colors = color, autopct='%1.1f%%', explode = explode, shadow = True, startangle = 90, radius = 1)\n",
        "plt.title('No of rides pie chart')\n",
        "\n",
        "plt.show()\n"
      ]
    },
    {
      "cell_type": "code",
      "source": [
        "city_ride"
      ],
      "metadata": {
        "colab": {
          "base_uri": "https://localhost:8080/",
          "height": 143
        },
        "id": "R5ASEPhGUgI_",
        "outputId": "1e022999-0d91-4534-a0dc-771b7b8d7e2c"
      },
      "execution_count": 22,
      "outputs": [
        {
          "output_type": "execute_result",
          "data": {
            "text/plain": [
              "       type  no of rides\n",
              "0     Rural          125\n",
              "1  Suburban          625\n",
              "2     Urban         1625"
            ],
            "text/html": [
              "\n",
              "  <div id=\"df-4cb63f8d-4482-4bc3-b1fa-d953e9165cd7\" class=\"colab-df-container\">\n",
              "    <div>\n",
              "<style scoped>\n",
              "    .dataframe tbody tr th:only-of-type {\n",
              "        vertical-align: middle;\n",
              "    }\n",
              "\n",
              "    .dataframe tbody tr th {\n",
              "        vertical-align: top;\n",
              "    }\n",
              "\n",
              "    .dataframe thead th {\n",
              "        text-align: right;\n",
              "    }\n",
              "</style>\n",
              "<table border=\"1\" class=\"dataframe\">\n",
              "  <thead>\n",
              "    <tr style=\"text-align: right;\">\n",
              "      <th></th>\n",
              "      <th>type</th>\n",
              "      <th>no of rides</th>\n",
              "    </tr>\n",
              "  </thead>\n",
              "  <tbody>\n",
              "    <tr>\n",
              "      <th>0</th>\n",
              "      <td>Rural</td>\n",
              "      <td>125</td>\n",
              "    </tr>\n",
              "    <tr>\n",
              "      <th>1</th>\n",
              "      <td>Suburban</td>\n",
              "      <td>625</td>\n",
              "    </tr>\n",
              "    <tr>\n",
              "      <th>2</th>\n",
              "      <td>Urban</td>\n",
              "      <td>1625</td>\n",
              "    </tr>\n",
              "  </tbody>\n",
              "</table>\n",
              "</div>\n",
              "    <div class=\"colab-df-buttons\">\n",
              "\n",
              "  <div class=\"colab-df-container\">\n",
              "    <button class=\"colab-df-convert\" onclick=\"convertToInteractive('df-4cb63f8d-4482-4bc3-b1fa-d953e9165cd7')\"\n",
              "            title=\"Convert this dataframe to an interactive table.\"\n",
              "            style=\"display:none;\">\n",
              "\n",
              "  <svg xmlns=\"http://www.w3.org/2000/svg\" height=\"24px\" viewBox=\"0 -960 960 960\">\n",
              "    <path d=\"M120-120v-720h720v720H120Zm60-500h600v-160H180v160Zm220 220h160v-160H400v160Zm0 220h160v-160H400v160ZM180-400h160v-160H180v160Zm440 0h160v-160H620v160ZM180-180h160v-160H180v160Zm440 0h160v-160H620v160Z\"/>\n",
              "  </svg>\n",
              "    </button>\n",
              "\n",
              "  <style>\n",
              "    .colab-df-container {\n",
              "      display:flex;\n",
              "      gap: 12px;\n",
              "    }\n",
              "\n",
              "    .colab-df-convert {\n",
              "      background-color: #E8F0FE;\n",
              "      border: none;\n",
              "      border-radius: 50%;\n",
              "      cursor: pointer;\n",
              "      display: none;\n",
              "      fill: #1967D2;\n",
              "      height: 32px;\n",
              "      padding: 0 0 0 0;\n",
              "      width: 32px;\n",
              "    }\n",
              "\n",
              "    .colab-df-convert:hover {\n",
              "      background-color: #E2EBFA;\n",
              "      box-shadow: 0px 1px 2px rgba(60, 64, 67, 0.3), 0px 1px 3px 1px rgba(60, 64, 67, 0.15);\n",
              "      fill: #174EA6;\n",
              "    }\n",
              "\n",
              "    .colab-df-buttons div {\n",
              "      margin-bottom: 4px;\n",
              "    }\n",
              "\n",
              "    [theme=dark] .colab-df-convert {\n",
              "      background-color: #3B4455;\n",
              "      fill: #D2E3FC;\n",
              "    }\n",
              "\n",
              "    [theme=dark] .colab-df-convert:hover {\n",
              "      background-color: #434B5C;\n",
              "      box-shadow: 0px 1px 3px 1px rgba(0, 0, 0, 0.15);\n",
              "      filter: drop-shadow(0px 1px 2px rgba(0, 0, 0, 0.3));\n",
              "      fill: #FFFFFF;\n",
              "    }\n",
              "  </style>\n",
              "\n",
              "    <script>\n",
              "      const buttonEl =\n",
              "        document.querySelector('#df-4cb63f8d-4482-4bc3-b1fa-d953e9165cd7 button.colab-df-convert');\n",
              "      buttonEl.style.display =\n",
              "        google.colab.kernel.accessAllowed ? 'block' : 'none';\n",
              "\n",
              "      async function convertToInteractive(key) {\n",
              "        const element = document.querySelector('#df-4cb63f8d-4482-4bc3-b1fa-d953e9165cd7');\n",
              "        const dataTable =\n",
              "          await google.colab.kernel.invokeFunction('convertToInteractive',\n",
              "                                                    [key], {});\n",
              "        if (!dataTable) return;\n",
              "\n",
              "        const docLinkHtml = 'Like what you see? Visit the ' +\n",
              "          '<a target=\"_blank\" href=https://colab.research.google.com/notebooks/data_table.ipynb>data table notebook</a>'\n",
              "          + ' to learn more about interactive tables.';\n",
              "        element.innerHTML = '';\n",
              "        dataTable['output_type'] = 'display_data';\n",
              "        await google.colab.output.renderOutput(dataTable, element);\n",
              "        const docLink = document.createElement('div');\n",
              "        docLink.innerHTML = docLinkHtml;\n",
              "        element.appendChild(docLink);\n",
              "      }\n",
              "    </script>\n",
              "  </div>\n",
              "\n",
              "\n",
              "<div id=\"df-23a9cff8-2a81-4756-8047-bc0277aada1d\">\n",
              "  <button class=\"colab-df-quickchart\" onclick=\"quickchart('df-23a9cff8-2a81-4756-8047-bc0277aada1d')\"\n",
              "            title=\"Suggest charts\"\n",
              "            style=\"display:none;\">\n",
              "\n",
              "<svg xmlns=\"http://www.w3.org/2000/svg\" height=\"24px\"viewBox=\"0 0 24 24\"\n",
              "     width=\"24px\">\n",
              "    <g>\n",
              "        <path d=\"M19 3H5c-1.1 0-2 .9-2 2v14c0 1.1.9 2 2 2h14c1.1 0 2-.9 2-2V5c0-1.1-.9-2-2-2zM9 17H7v-7h2v7zm4 0h-2V7h2v10zm4 0h-2v-4h2v4z\"/>\n",
              "    </g>\n",
              "</svg>\n",
              "  </button>\n",
              "\n",
              "<style>\n",
              "  .colab-df-quickchart {\n",
              "      --bg-color: #E8F0FE;\n",
              "      --fill-color: #1967D2;\n",
              "      --hover-bg-color: #E2EBFA;\n",
              "      --hover-fill-color: #174EA6;\n",
              "      --disabled-fill-color: #AAA;\n",
              "      --disabled-bg-color: #DDD;\n",
              "  }\n",
              "\n",
              "  [theme=dark] .colab-df-quickchart {\n",
              "      --bg-color: #3B4455;\n",
              "      --fill-color: #D2E3FC;\n",
              "      --hover-bg-color: #434B5C;\n",
              "      --hover-fill-color: #FFFFFF;\n",
              "      --disabled-bg-color: #3B4455;\n",
              "      --disabled-fill-color: #666;\n",
              "  }\n",
              "\n",
              "  .colab-df-quickchart {\n",
              "    background-color: var(--bg-color);\n",
              "    border: none;\n",
              "    border-radius: 50%;\n",
              "    cursor: pointer;\n",
              "    display: none;\n",
              "    fill: var(--fill-color);\n",
              "    height: 32px;\n",
              "    padding: 0;\n",
              "    width: 32px;\n",
              "  }\n",
              "\n",
              "  .colab-df-quickchart:hover {\n",
              "    background-color: var(--hover-bg-color);\n",
              "    box-shadow: 0 1px 2px rgba(60, 64, 67, 0.3), 0 1px 3px 1px rgba(60, 64, 67, 0.15);\n",
              "    fill: var(--button-hover-fill-color);\n",
              "  }\n",
              "\n",
              "  .colab-df-quickchart-complete:disabled,\n",
              "  .colab-df-quickchart-complete:disabled:hover {\n",
              "    background-color: var(--disabled-bg-color);\n",
              "    fill: var(--disabled-fill-color);\n",
              "    box-shadow: none;\n",
              "  }\n",
              "\n",
              "  .colab-df-spinner {\n",
              "    border: 2px solid var(--fill-color);\n",
              "    border-color: transparent;\n",
              "    border-bottom-color: var(--fill-color);\n",
              "    animation:\n",
              "      spin 1s steps(1) infinite;\n",
              "  }\n",
              "\n",
              "  @keyframes spin {\n",
              "    0% {\n",
              "      border-color: transparent;\n",
              "      border-bottom-color: var(--fill-color);\n",
              "      border-left-color: var(--fill-color);\n",
              "    }\n",
              "    20% {\n",
              "      border-color: transparent;\n",
              "      border-left-color: var(--fill-color);\n",
              "      border-top-color: var(--fill-color);\n",
              "    }\n",
              "    30% {\n",
              "      border-color: transparent;\n",
              "      border-left-color: var(--fill-color);\n",
              "      border-top-color: var(--fill-color);\n",
              "      border-right-color: var(--fill-color);\n",
              "    }\n",
              "    40% {\n",
              "      border-color: transparent;\n",
              "      border-right-color: var(--fill-color);\n",
              "      border-top-color: var(--fill-color);\n",
              "    }\n",
              "    60% {\n",
              "      border-color: transparent;\n",
              "      border-right-color: var(--fill-color);\n",
              "    }\n",
              "    80% {\n",
              "      border-color: transparent;\n",
              "      border-right-color: var(--fill-color);\n",
              "      border-bottom-color: var(--fill-color);\n",
              "    }\n",
              "    90% {\n",
              "      border-color: transparent;\n",
              "      border-bottom-color: var(--fill-color);\n",
              "    }\n",
              "  }\n",
              "</style>\n",
              "\n",
              "  <script>\n",
              "    async function quickchart(key) {\n",
              "      const quickchartButtonEl =\n",
              "        document.querySelector('#' + key + ' button');\n",
              "      quickchartButtonEl.disabled = true;  // To prevent multiple clicks.\n",
              "      quickchartButtonEl.classList.add('colab-df-spinner');\n",
              "      try {\n",
              "        const charts = await google.colab.kernel.invokeFunction(\n",
              "            'suggestCharts', [key], {});\n",
              "      } catch (error) {\n",
              "        console.error('Error during call to suggestCharts:', error);\n",
              "      }\n",
              "      quickchartButtonEl.classList.remove('colab-df-spinner');\n",
              "      quickchartButtonEl.classList.add('colab-df-quickchart-complete');\n",
              "    }\n",
              "    (() => {\n",
              "      let quickchartButtonEl =\n",
              "        document.querySelector('#df-23a9cff8-2a81-4756-8047-bc0277aada1d button');\n",
              "      quickchartButtonEl.style.display =\n",
              "        google.colab.kernel.accessAllowed ? 'block' : 'none';\n",
              "    })();\n",
              "  </script>\n",
              "</div>\n",
              "\n",
              "  <div id=\"id_63420276-ad58-4741-88e8-276a59497753\">\n",
              "    <style>\n",
              "      .colab-df-generate {\n",
              "        background-color: #E8F0FE;\n",
              "        border: none;\n",
              "        border-radius: 50%;\n",
              "        cursor: pointer;\n",
              "        display: none;\n",
              "        fill: #1967D2;\n",
              "        height: 32px;\n",
              "        padding: 0 0 0 0;\n",
              "        width: 32px;\n",
              "      }\n",
              "\n",
              "      .colab-df-generate:hover {\n",
              "        background-color: #E2EBFA;\n",
              "        box-shadow: 0px 1px 2px rgba(60, 64, 67, 0.3), 0px 1px 3px 1px rgba(60, 64, 67, 0.15);\n",
              "        fill: #174EA6;\n",
              "      }\n",
              "\n",
              "      [theme=dark] .colab-df-generate {\n",
              "        background-color: #3B4455;\n",
              "        fill: #D2E3FC;\n",
              "      }\n",
              "\n",
              "      [theme=dark] .colab-df-generate:hover {\n",
              "        background-color: #434B5C;\n",
              "        box-shadow: 0px 1px 3px 1px rgba(0, 0, 0, 0.15);\n",
              "        filter: drop-shadow(0px 1px 2px rgba(0, 0, 0, 0.3));\n",
              "        fill: #FFFFFF;\n",
              "      }\n",
              "    </style>\n",
              "    <button class=\"colab-df-generate\" onclick=\"generateWithVariable('city_ride')\"\n",
              "            title=\"Generate code using this dataframe.\"\n",
              "            style=\"display:none;\">\n",
              "\n",
              "  <svg xmlns=\"http://www.w3.org/2000/svg\" height=\"24px\"viewBox=\"0 0 24 24\"\n",
              "       width=\"24px\">\n",
              "    <path d=\"M7,19H8.4L18.45,9,17,7.55,7,17.6ZM5,21V16.75L18.45,3.32a2,2,0,0,1,2.83,0l1.4,1.43a1.91,1.91,0,0,1,.58,1.4,1.91,1.91,0,0,1-.58,1.4L9.25,21ZM18.45,9,17,7.55Zm-12,3A5.31,5.31,0,0,0,4.9,8.1,5.31,5.31,0,0,0,1,6.5,5.31,5.31,0,0,0,4.9,4.9,5.31,5.31,0,0,0,6.5,1,5.31,5.31,0,0,0,8.1,4.9,5.31,5.31,0,0,0,12,6.5,5.46,5.46,0,0,0,6.5,12Z\"/>\n",
              "  </svg>\n",
              "    </button>\n",
              "    <script>\n",
              "      (() => {\n",
              "      const buttonEl =\n",
              "        document.querySelector('#id_63420276-ad58-4741-88e8-276a59497753 button.colab-df-generate');\n",
              "      buttonEl.style.display =\n",
              "        google.colab.kernel.accessAllowed ? 'block' : 'none';\n",
              "\n",
              "      buttonEl.onclick = () => {\n",
              "        google.colab.notebook.generateWithVariable('city_ride');\n",
              "      }\n",
              "      })();\n",
              "    </script>\n",
              "  </div>\n",
              "\n",
              "    </div>\n",
              "  </div>\n"
            ],
            "application/vnd.google.colaboratory.intrinsic+json": {
              "type": "dataframe",
              "variable_name": "city_ride",
              "summary": "{\n  \"name\": \"city_ride\",\n  \"rows\": 3,\n  \"fields\": [\n    {\n      \"column\": \"type\",\n      \"properties\": {\n        \"dtype\": \"string\",\n        \"num_unique_values\": 3,\n        \"samples\": [\n          \"Rural\",\n          \"Suburban\",\n          \"Urban\"\n        ],\n        \"semantic_type\": \"\",\n        \"description\": \"\"\n      }\n    },\n    {\n      \"column\": \"no of rides\",\n      \"properties\": {\n        \"dtype\": \"number\",\n        \"std\": 763,\n        \"min\": 125,\n        \"max\": 1625,\n        \"num_unique_values\": 3,\n        \"samples\": [\n          125,\n          625,\n          1625\n        ],\n        \"semantic_type\": \"\",\n        \"description\": \"\"\n      }\n    }\n  ]\n}"
            }
          },
          "metadata": {},
          "execution_count": 22
        }
      ]
    },
    {
      "cell_type": "markdown",
      "metadata": {
        "id": "QIuhupEZ1y_S"
      },
      "source": [
        "## 1.3 Numerical Variables"
      ]
    },
    {
      "cell_type": "markdown",
      "metadata": {
        "id": "GqietlVA2BUa"
      },
      "source": [
        "### 1.31 Measures of Central Tendency"
      ]
    },
    {
      "cell_type": "code",
      "execution_count": 52,
      "metadata": {
        "id": "u_W0Wibz13A8",
        "outputId": "dc218c33-210e-4eb8-b76c-3823b67b4966",
        "colab": {
          "base_uri": "https://localhost:8080/"
        }
      },
      "outputs": [
        {
          "output_type": "execute_result",
          "data": {
            "text/plain": [
              "24.452987654320985"
            ]
          },
          "metadata": {},
          "execution_count": 52
        }
      ],
      "source": [
        "# Example 1: Mean\n",
        "# Mean or Average is a central tendency of the data i.e. a number around which a whole data is spread out.\n",
        "# In a way, it is a single number which can estimate the value of whole data set.\n",
        "# ---\n",
        "# Question: From the following dataset, What is the mean monthly consumption and export of tea in millions of kg between 2003 and 2015\n",
        "# Dataset url = http://bit.ly/tea-exports\n",
        "# ---\n",
        "\n",
        "# Loading the dataset\n",
        "tea_exports_df = pd.read_csv(\"http://bit.ly/tea-exports\")\n",
        "\n",
        "# Previewing the dataset\n",
        "tea_exports_df.head()\n",
        "\n",
        "# Finding the mean\n",
        "tea_exports_df[\"Millions_in_KGS_\"].mean()"
      ]
    },
    {
      "cell_type": "code",
      "execution_count": 53,
      "metadata": {
        "id": "2DPrdaoc16tZ",
        "outputId": "2e6bac6e-55d4-4823-da54-83ad05336c49",
        "colab": {
          "base_uri": "https://localhost:8080/"
        }
      },
      "outputs": [
        {
          "output_type": "execute_result",
          "data": {
            "text/plain": [
              "2424.0"
            ]
          },
          "metadata": {},
          "execution_count": 53
        }
      ],
      "source": [
        "# Example 2: Median\n",
        "# Median is the value which divides the data in 2 equal parts i.e. number of terms on right side of it\n",
        "# is same as number of terms on left side of it when data is arranged in either ascending or descending order.\n",
        "# ---\n",
        "# Question: From the following dataset, What was the monthly median fish production(kgs) in Kisumu sub county?\n",
        "# Dataset url = http://bit.ly/Kisumu-fish-production\n",
        "# ---\n",
        "#\n",
        "\n",
        "# Loading the dataset\n",
        "kisumu_fish_production_df = pd.read_csv(\"http://bit.ly/Kisumu-fish-production\")\n",
        "\n",
        "# Previewing the dataset\n",
        "# kisumu_fish_production_df.head()\n",
        "\n",
        "# Finding the median\n",
        "kisumu_fish_production_df[\"WEIGHT_KGS\"].median()"
      ]
    },
    {
      "cell_type": "code",
      "execution_count": 54,
      "metadata": {
        "id": "eYO9eGyH125E",
        "outputId": "78264b37-f3d8-47bc-f361-f07e730aa7e1",
        "colab": {
          "base_uri": "https://localhost:8080/"
        }
      },
      "outputs": [
        {
          "output_type": "execute_result",
          "data": {
            "text/plain": [
              "0    10\n",
              "Name: TARGET_YIELD__BAG/HA_LONG_RAINS, dtype: int64"
            ]
          },
          "metadata": {},
          "execution_count": 54
        }
      ],
      "source": [
        "# Example 3: Mode\n",
        "# Mode is the term appearing maximum time in data set i.e. term that has highest frequency.\n",
        "# ---\n",
        "# Question: From the given dataset, what was the mode target yield bags per hectare during the long rains?\n",
        "# Dataset url = http://bit.ly/Kisumu-crop-statistics\n",
        "# ---\n",
        "#\n",
        "\n",
        "# Loading the dataset\n",
        "kisumu_crop_statistics_df = pd.read_csv(\"http://bit.ly/Kisumu-crop-statistics\")\n",
        "\n",
        "# Previewing the dataset\n",
        "kisumu_crop_statistics_df.head()\n",
        "\n",
        "# Finding the median\n",
        "kisumu_crop_statistics_df[\"TARGET_YIELD__BAG/HA_LONG_RAINS\"].mode()"
      ]
    },
    {
      "cell_type": "markdown",
      "metadata": {
        "id": "Z6im-o4g4pK6"
      },
      "source": [
        "#### <font color=\"green\">1.32 Challenges</font>"
      ]
    },
    {
      "cell_type": "code",
      "execution_count": 55,
      "metadata": {
        "id": "bd8oXas94osH",
        "outputId": "bf4da918-e9e2-46f5-e8fc-42073ff1ac15",
        "colab": {
          "base_uri": "https://localhost:8080/",
          "height": 307
        }
      },
      "outputs": [
        {
          "output_type": "execute_result",
          "data": {
            "text/plain": [
              "    SUB-COUNTY PRODUCE  TARGET_AREA_HA_LONG_RAINS  TARGET_AREA_HA_SHORT_RAINS  \\\n",
              "0  KISUMU WEST   Maize                       8000                        5000   \n",
              "1         SEME   Maize                       8000                        3500   \n",
              "2     KISUMU E   Maize                       1500                         750   \n",
              "3       NYANDO   Maize                       8200                        4000   \n",
              "4      NYAKACH   Maize                      10500                        4500   \n",
              "\n",
              "   TARGET_TOTAL_  TARGET_YIELD__BAG/HA_LONG_RAINS  \\\n",
              "0           6700                               25   \n",
              "1          13000                               25   \n",
              "2           2250                               25   \n",
              "3          12200                               25   \n",
              "4          15000                               25   \n",
              "\n",
              "   TARGET_YIELD__BAG/HA_SHORT_RAINS  TARGET_PRODUCTION_BAGS_LONG_RAINS  \\\n",
              "0                                20                             200000   \n",
              "1                                20                             200000   \n",
              "2                                20                              37500   \n",
              "3                                20                             205000   \n",
              "4                                20                             262500   \n",
              "\n",
              "   TARGET_PRODUCTION_BAGS_SHORT_RAINS  TARGET_PRODUCTION_BAGS_TOTAL  ...  \\\n",
              "0                              100000                        300000  ...   \n",
              "1                               70000                        270000  ...   \n",
              "2                               15000                         52500  ...   \n",
              "3                               80000                        285000  ...   \n",
              "4                               90000                        352500  ...   \n",
              "\n",
              "   PROJECTED___PRODUCTION_BAGS_OF_90KG_EACH__LR  \\\n",
              "0                                         21670   \n",
              "1                                         19800   \n",
              "2                                          4015   \n",
              "3                                         21010   \n",
              "4                                         26125   \n",
              "\n",
              "   PROJECTED___PRODUCTION_BAGS_OF_90KG_EACH__SR  \\\n",
              "0                                       25000.0   \n",
              "1                                       17500.0   \n",
              "2                                        3750.0   \n",
              "3                                       20000.0   \n",
              "4                                       22500.0   \n",
              "\n",
              "   PROJECTED___PRODUCTION_BAGS_OF_90KG_EACH__TOTAL  PRICES_KSH/BAG_LONG_RAINS  \\\n",
              "0                                            46670                          0   \n",
              "1                                            37300                          0   \n",
              "2                                             7765                          0   \n",
              "3                                            41010                          0   \n",
              "4                                            48625                          0   \n",
              "\n",
              "   PRICES_KSH/BAG_SHORT_RAINS  VALUE_KSH__LONG_RAINS  VALUE_KSH_SHORT_RAINS  \\\n",
              "0                           0                      0                      0   \n",
              "1                           0                      0                      0   \n",
              "2                           0                      0                      0   \n",
              "3                           0                      0                      0   \n",
              "4                           0                      0                      0   \n",
              "\n",
              "   VALUE_KSH_TOTAL     DATE  OBJECTID  \n",
              "0                0  9/16/16         0  \n",
              "1                0  9/16/16         1  \n",
              "2                0  9/16/16         2  \n",
              "3                0  9/16/16         3  \n",
              "4                0  9/16/16         4  \n",
              "\n",
              "[5 rows x 25 columns]"
            ],
            "text/html": [
              "\n",
              "  <div id=\"df-501ffb1c-99dd-4fae-90f1-ae4e51472a9c\" class=\"colab-df-container\">\n",
              "    <div>\n",
              "<style scoped>\n",
              "    .dataframe tbody tr th:only-of-type {\n",
              "        vertical-align: middle;\n",
              "    }\n",
              "\n",
              "    .dataframe tbody tr th {\n",
              "        vertical-align: top;\n",
              "    }\n",
              "\n",
              "    .dataframe thead th {\n",
              "        text-align: right;\n",
              "    }\n",
              "</style>\n",
              "<table border=\"1\" class=\"dataframe\">\n",
              "  <thead>\n",
              "    <tr style=\"text-align: right;\">\n",
              "      <th></th>\n",
              "      <th>SUB-COUNTY</th>\n",
              "      <th>PRODUCE</th>\n",
              "      <th>TARGET_AREA_HA_LONG_RAINS</th>\n",
              "      <th>TARGET_AREA_HA_SHORT_RAINS</th>\n",
              "      <th>TARGET_TOTAL_</th>\n",
              "      <th>TARGET_YIELD__BAG/HA_LONG_RAINS</th>\n",
              "      <th>TARGET_YIELD__BAG/HA_SHORT_RAINS</th>\n",
              "      <th>TARGET_PRODUCTION_BAGS_LONG_RAINS</th>\n",
              "      <th>TARGET_PRODUCTION_BAGS_SHORT_RAINS</th>\n",
              "      <th>TARGET_PRODUCTION_BAGS_TOTAL</th>\n",
              "      <th>...</th>\n",
              "      <th>PROJECTED___PRODUCTION_BAGS_OF_90KG_EACH__LR</th>\n",
              "      <th>PROJECTED___PRODUCTION_BAGS_OF_90KG_EACH__SR</th>\n",
              "      <th>PROJECTED___PRODUCTION_BAGS_OF_90KG_EACH__TOTAL</th>\n",
              "      <th>PRICES_KSH/BAG_LONG_RAINS</th>\n",
              "      <th>PRICES_KSH/BAG_SHORT_RAINS</th>\n",
              "      <th>VALUE_KSH__LONG_RAINS</th>\n",
              "      <th>VALUE_KSH_SHORT_RAINS</th>\n",
              "      <th>VALUE_KSH_TOTAL</th>\n",
              "      <th>DATE</th>\n",
              "      <th>OBJECTID</th>\n",
              "    </tr>\n",
              "  </thead>\n",
              "  <tbody>\n",
              "    <tr>\n",
              "      <th>0</th>\n",
              "      <td>KISUMU WEST</td>\n",
              "      <td>Maize</td>\n",
              "      <td>8000</td>\n",
              "      <td>5000</td>\n",
              "      <td>6700</td>\n",
              "      <td>25</td>\n",
              "      <td>20</td>\n",
              "      <td>200000</td>\n",
              "      <td>100000</td>\n",
              "      <td>300000</td>\n",
              "      <td>...</td>\n",
              "      <td>21670</td>\n",
              "      <td>25000.0</td>\n",
              "      <td>46670</td>\n",
              "      <td>0</td>\n",
              "      <td>0</td>\n",
              "      <td>0</td>\n",
              "      <td>0</td>\n",
              "      <td>0</td>\n",
              "      <td>9/16/16</td>\n",
              "      <td>0</td>\n",
              "    </tr>\n",
              "    <tr>\n",
              "      <th>1</th>\n",
              "      <td>SEME</td>\n",
              "      <td>Maize</td>\n",
              "      <td>8000</td>\n",
              "      <td>3500</td>\n",
              "      <td>13000</td>\n",
              "      <td>25</td>\n",
              "      <td>20</td>\n",
              "      <td>200000</td>\n",
              "      <td>70000</td>\n",
              "      <td>270000</td>\n",
              "      <td>...</td>\n",
              "      <td>19800</td>\n",
              "      <td>17500.0</td>\n",
              "      <td>37300</td>\n",
              "      <td>0</td>\n",
              "      <td>0</td>\n",
              "      <td>0</td>\n",
              "      <td>0</td>\n",
              "      <td>0</td>\n",
              "      <td>9/16/16</td>\n",
              "      <td>1</td>\n",
              "    </tr>\n",
              "    <tr>\n",
              "      <th>2</th>\n",
              "      <td>KISUMU E</td>\n",
              "      <td>Maize</td>\n",
              "      <td>1500</td>\n",
              "      <td>750</td>\n",
              "      <td>2250</td>\n",
              "      <td>25</td>\n",
              "      <td>20</td>\n",
              "      <td>37500</td>\n",
              "      <td>15000</td>\n",
              "      <td>52500</td>\n",
              "      <td>...</td>\n",
              "      <td>4015</td>\n",
              "      <td>3750.0</td>\n",
              "      <td>7765</td>\n",
              "      <td>0</td>\n",
              "      <td>0</td>\n",
              "      <td>0</td>\n",
              "      <td>0</td>\n",
              "      <td>0</td>\n",
              "      <td>9/16/16</td>\n",
              "      <td>2</td>\n",
              "    </tr>\n",
              "    <tr>\n",
              "      <th>3</th>\n",
              "      <td>NYANDO</td>\n",
              "      <td>Maize</td>\n",
              "      <td>8200</td>\n",
              "      <td>4000</td>\n",
              "      <td>12200</td>\n",
              "      <td>25</td>\n",
              "      <td>20</td>\n",
              "      <td>205000</td>\n",
              "      <td>80000</td>\n",
              "      <td>285000</td>\n",
              "      <td>...</td>\n",
              "      <td>21010</td>\n",
              "      <td>20000.0</td>\n",
              "      <td>41010</td>\n",
              "      <td>0</td>\n",
              "      <td>0</td>\n",
              "      <td>0</td>\n",
              "      <td>0</td>\n",
              "      <td>0</td>\n",
              "      <td>9/16/16</td>\n",
              "      <td>3</td>\n",
              "    </tr>\n",
              "    <tr>\n",
              "      <th>4</th>\n",
              "      <td>NYAKACH</td>\n",
              "      <td>Maize</td>\n",
              "      <td>10500</td>\n",
              "      <td>4500</td>\n",
              "      <td>15000</td>\n",
              "      <td>25</td>\n",
              "      <td>20</td>\n",
              "      <td>262500</td>\n",
              "      <td>90000</td>\n",
              "      <td>352500</td>\n",
              "      <td>...</td>\n",
              "      <td>26125</td>\n",
              "      <td>22500.0</td>\n",
              "      <td>48625</td>\n",
              "      <td>0</td>\n",
              "      <td>0</td>\n",
              "      <td>0</td>\n",
              "      <td>0</td>\n",
              "      <td>0</td>\n",
              "      <td>9/16/16</td>\n",
              "      <td>4</td>\n",
              "    </tr>\n",
              "  </tbody>\n",
              "</table>\n",
              "<p>5 rows × 25 columns</p>\n",
              "</div>\n",
              "    <div class=\"colab-df-buttons\">\n",
              "\n",
              "  <div class=\"colab-df-container\">\n",
              "    <button class=\"colab-df-convert\" onclick=\"convertToInteractive('df-501ffb1c-99dd-4fae-90f1-ae4e51472a9c')\"\n",
              "            title=\"Convert this dataframe to an interactive table.\"\n",
              "            style=\"display:none;\">\n",
              "\n",
              "  <svg xmlns=\"http://www.w3.org/2000/svg\" height=\"24px\" viewBox=\"0 -960 960 960\">\n",
              "    <path d=\"M120-120v-720h720v720H120Zm60-500h600v-160H180v160Zm220 220h160v-160H400v160Zm0 220h160v-160H400v160ZM180-400h160v-160H180v160Zm440 0h160v-160H620v160ZM180-180h160v-160H180v160Zm440 0h160v-160H620v160Z\"/>\n",
              "  </svg>\n",
              "    </button>\n",
              "\n",
              "  <style>\n",
              "    .colab-df-container {\n",
              "      display:flex;\n",
              "      gap: 12px;\n",
              "    }\n",
              "\n",
              "    .colab-df-convert {\n",
              "      background-color: #E8F0FE;\n",
              "      border: none;\n",
              "      border-radius: 50%;\n",
              "      cursor: pointer;\n",
              "      display: none;\n",
              "      fill: #1967D2;\n",
              "      height: 32px;\n",
              "      padding: 0 0 0 0;\n",
              "      width: 32px;\n",
              "    }\n",
              "\n",
              "    .colab-df-convert:hover {\n",
              "      background-color: #E2EBFA;\n",
              "      box-shadow: 0px 1px 2px rgba(60, 64, 67, 0.3), 0px 1px 3px 1px rgba(60, 64, 67, 0.15);\n",
              "      fill: #174EA6;\n",
              "    }\n",
              "\n",
              "    .colab-df-buttons div {\n",
              "      margin-bottom: 4px;\n",
              "    }\n",
              "\n",
              "    [theme=dark] .colab-df-convert {\n",
              "      background-color: #3B4455;\n",
              "      fill: #D2E3FC;\n",
              "    }\n",
              "\n",
              "    [theme=dark] .colab-df-convert:hover {\n",
              "      background-color: #434B5C;\n",
              "      box-shadow: 0px 1px 3px 1px rgba(0, 0, 0, 0.15);\n",
              "      filter: drop-shadow(0px 1px 2px rgba(0, 0, 0, 0.3));\n",
              "      fill: #FFFFFF;\n",
              "    }\n",
              "  </style>\n",
              "\n",
              "    <script>\n",
              "      const buttonEl =\n",
              "        document.querySelector('#df-501ffb1c-99dd-4fae-90f1-ae4e51472a9c button.colab-df-convert');\n",
              "      buttonEl.style.display =\n",
              "        google.colab.kernel.accessAllowed ? 'block' : 'none';\n",
              "\n",
              "      async function convertToInteractive(key) {\n",
              "        const element = document.querySelector('#df-501ffb1c-99dd-4fae-90f1-ae4e51472a9c');\n",
              "        const dataTable =\n",
              "          await google.colab.kernel.invokeFunction('convertToInteractive',\n",
              "                                                    [key], {});\n",
              "        if (!dataTable) return;\n",
              "\n",
              "        const docLinkHtml = 'Like what you see? Visit the ' +\n",
              "          '<a target=\"_blank\" href=https://colab.research.google.com/notebooks/data_table.ipynb>data table notebook</a>'\n",
              "          + ' to learn more about interactive tables.';\n",
              "        element.innerHTML = '';\n",
              "        dataTable['output_type'] = 'display_data';\n",
              "        await google.colab.output.renderOutput(dataTable, element);\n",
              "        const docLink = document.createElement('div');\n",
              "        docLink.innerHTML = docLinkHtml;\n",
              "        element.appendChild(docLink);\n",
              "      }\n",
              "    </script>\n",
              "  </div>\n",
              "\n",
              "\n",
              "<div id=\"df-f19afdcf-116c-4b12-91eb-d1dd9dd984ab\">\n",
              "  <button class=\"colab-df-quickchart\" onclick=\"quickchart('df-f19afdcf-116c-4b12-91eb-d1dd9dd984ab')\"\n",
              "            title=\"Suggest charts\"\n",
              "            style=\"display:none;\">\n",
              "\n",
              "<svg xmlns=\"http://www.w3.org/2000/svg\" height=\"24px\"viewBox=\"0 0 24 24\"\n",
              "     width=\"24px\">\n",
              "    <g>\n",
              "        <path d=\"M19 3H5c-1.1 0-2 .9-2 2v14c0 1.1.9 2 2 2h14c1.1 0 2-.9 2-2V5c0-1.1-.9-2-2-2zM9 17H7v-7h2v7zm4 0h-2V7h2v10zm4 0h-2v-4h2v4z\"/>\n",
              "    </g>\n",
              "</svg>\n",
              "  </button>\n",
              "\n",
              "<style>\n",
              "  .colab-df-quickchart {\n",
              "      --bg-color: #E8F0FE;\n",
              "      --fill-color: #1967D2;\n",
              "      --hover-bg-color: #E2EBFA;\n",
              "      --hover-fill-color: #174EA6;\n",
              "      --disabled-fill-color: #AAA;\n",
              "      --disabled-bg-color: #DDD;\n",
              "  }\n",
              "\n",
              "  [theme=dark] .colab-df-quickchart {\n",
              "      --bg-color: #3B4455;\n",
              "      --fill-color: #D2E3FC;\n",
              "      --hover-bg-color: #434B5C;\n",
              "      --hover-fill-color: #FFFFFF;\n",
              "      --disabled-bg-color: #3B4455;\n",
              "      --disabled-fill-color: #666;\n",
              "  }\n",
              "\n",
              "  .colab-df-quickchart {\n",
              "    background-color: var(--bg-color);\n",
              "    border: none;\n",
              "    border-radius: 50%;\n",
              "    cursor: pointer;\n",
              "    display: none;\n",
              "    fill: var(--fill-color);\n",
              "    height: 32px;\n",
              "    padding: 0;\n",
              "    width: 32px;\n",
              "  }\n",
              "\n",
              "  .colab-df-quickchart:hover {\n",
              "    background-color: var(--hover-bg-color);\n",
              "    box-shadow: 0 1px 2px rgba(60, 64, 67, 0.3), 0 1px 3px 1px rgba(60, 64, 67, 0.15);\n",
              "    fill: var(--button-hover-fill-color);\n",
              "  }\n",
              "\n",
              "  .colab-df-quickchart-complete:disabled,\n",
              "  .colab-df-quickchart-complete:disabled:hover {\n",
              "    background-color: var(--disabled-bg-color);\n",
              "    fill: var(--disabled-fill-color);\n",
              "    box-shadow: none;\n",
              "  }\n",
              "\n",
              "  .colab-df-spinner {\n",
              "    border: 2px solid var(--fill-color);\n",
              "    border-color: transparent;\n",
              "    border-bottom-color: var(--fill-color);\n",
              "    animation:\n",
              "      spin 1s steps(1) infinite;\n",
              "  }\n",
              "\n",
              "  @keyframes spin {\n",
              "    0% {\n",
              "      border-color: transparent;\n",
              "      border-bottom-color: var(--fill-color);\n",
              "      border-left-color: var(--fill-color);\n",
              "    }\n",
              "    20% {\n",
              "      border-color: transparent;\n",
              "      border-left-color: var(--fill-color);\n",
              "      border-top-color: var(--fill-color);\n",
              "    }\n",
              "    30% {\n",
              "      border-color: transparent;\n",
              "      border-left-color: var(--fill-color);\n",
              "      border-top-color: var(--fill-color);\n",
              "      border-right-color: var(--fill-color);\n",
              "    }\n",
              "    40% {\n",
              "      border-color: transparent;\n",
              "      border-right-color: var(--fill-color);\n",
              "      border-top-color: var(--fill-color);\n",
              "    }\n",
              "    60% {\n",
              "      border-color: transparent;\n",
              "      border-right-color: var(--fill-color);\n",
              "    }\n",
              "    80% {\n",
              "      border-color: transparent;\n",
              "      border-right-color: var(--fill-color);\n",
              "      border-bottom-color: var(--fill-color);\n",
              "    }\n",
              "    90% {\n",
              "      border-color: transparent;\n",
              "      border-bottom-color: var(--fill-color);\n",
              "    }\n",
              "  }\n",
              "</style>\n",
              "\n",
              "  <script>\n",
              "    async function quickchart(key) {\n",
              "      const quickchartButtonEl =\n",
              "        document.querySelector('#' + key + ' button');\n",
              "      quickchartButtonEl.disabled = true;  // To prevent multiple clicks.\n",
              "      quickchartButtonEl.classList.add('colab-df-spinner');\n",
              "      try {\n",
              "        const charts = await google.colab.kernel.invokeFunction(\n",
              "            'suggestCharts', [key], {});\n",
              "      } catch (error) {\n",
              "        console.error('Error during call to suggestCharts:', error);\n",
              "      }\n",
              "      quickchartButtonEl.classList.remove('colab-df-spinner');\n",
              "      quickchartButtonEl.classList.add('colab-df-quickchart-complete');\n",
              "    }\n",
              "    (() => {\n",
              "      let quickchartButtonEl =\n",
              "        document.querySelector('#df-f19afdcf-116c-4b12-91eb-d1dd9dd984ab button');\n",
              "      quickchartButtonEl.style.display =\n",
              "        google.colab.kernel.accessAllowed ? 'block' : 'none';\n",
              "    })();\n",
              "  </script>\n",
              "</div>\n",
              "\n",
              "    </div>\n",
              "  </div>\n"
            ],
            "application/vnd.google.colaboratory.intrinsic+json": {
              "type": "dataframe",
              "variable_name": "kisumu_df"
            }
          },
          "metadata": {},
          "execution_count": 55
        }
      ],
      "source": [
        "# Challenge 1: Mean\n",
        "# ---\n",
        "# Question: What was the mean target production bags of 90kg during short rains?\n",
        "# Dataset url = http://bit.ly/Kisumu-crop-statistics\n",
        "# ---\n",
        "#\n",
        "data = 'http://bit.ly/Kisumu-crop-statistics'\n",
        "\n",
        "kisumu_df = read(data)\n",
        "kisumu_df.head()"
      ]
    },
    {
      "cell_type": "code",
      "execution_count": 56,
      "metadata": {
        "id": "Ge6rFj5aSq58",
        "outputId": "c309513f-13a7-4906-d7a5-16e457f56286",
        "colab": {
          "base_uri": "https://localhost:8080/"
        }
      },
      "outputs": [
        {
          "output_type": "execute_result",
          "data": {
            "text/plain": [
              "14005.30303030303"
            ]
          },
          "metadata": {},
          "execution_count": 56
        }
      ],
      "source": [
        "kisumu_df['TARGET_PRODUCTION_BAGS_SHORT_RAINS'].mean()"
      ]
    },
    {
      "cell_type": "code",
      "execution_count": 57,
      "metadata": {
        "id": "lOwXYPaO4x7u",
        "outputId": "9e56cf91-c167-43ac-c501-5e394f2cec10",
        "colab": {
          "base_uri": "https://localhost:8080/"
        }
      },
      "outputs": [
        {
          "output_type": "execute_result",
          "data": {
            "text/plain": [
              "3075.0"
            ]
          },
          "metadata": {},
          "execution_count": 57
        }
      ],
      "source": [
        "# Challenge 2: Median\n",
        "# ---\n",
        "# Question: What was the median target production bags during long rains?\n",
        "# Dataset url = http://bit.ly/Kisumu-crop-statistics\n",
        "# ---\n",
        "#\n",
        "kisumu_df['TARGET_PRODUCTION_BAGS_LONG_RAINS'].median()"
      ]
    },
    {
      "cell_type": "code",
      "execution_count": 58,
      "metadata": {
        "id": "JyOIjUMD4y-7",
        "outputId": "1f84c572-7712-4f19-8158-a57659bf02d1",
        "colab": {
          "base_uri": "https://localhost:8080/"
        }
      },
      "outputs": [
        {
          "output_type": "execute_result",
          "data": {
            "text/plain": [
              "0    0.0\n",
              "Name: PROJECTED_YIELD_BAG/HA_SHORT_RAINS, dtype: float64"
            ]
          },
          "metadata": {},
          "execution_count": 58
        }
      ],
      "source": [
        "# Challenge 3: Mode\n",
        "# ---\n",
        "# Question: What was the mode projected yield bags per hectare during short rains?\n",
        "# Dataset url = http://bit.ly/Kisumu-crop-statistics\n",
        "# ---\n",
        "#\n",
        "kisumu_df['PROJECTED_YIELD_BAG/HA_SHORT_RAINS'].mode()"
      ]
    },
    {
      "cell_type": "markdown",
      "metadata": {
        "id": "8POt4f4D2LcH"
      },
      "source": [
        "### 1.32 Measures of Dispersion/Variability/Spread"
      ]
    },
    {
      "cell_type": "code",
      "execution_count": 25,
      "metadata": {
        "id": "kZeJoLg_2R3Q",
        "outputId": "0652226e-2ff4-4a03-d18e-d48729d3d377",
        "colab": {
          "base_uri": "https://localhost:8080/"
        }
      },
      "outputs": [
        {
          "output_type": "stream",
          "name": "stdout",
          "text": [
            "  Type_of_Herbicide Unit  Average_Price  OBJECTID\n",
            "0         Gramoxone   1L           1600         0\n",
            "1       Sigma Combi   1L           1200         1\n",
            "2       Sigma Combi   5L           5500         2\n",
            "3           Roundup   1L           1350         3\n",
            "4         Glyphogan   1L            650         4\n",
            "**********************************************************************\n",
            "MEAN\n",
            "2933.3333333333335\n",
            "**********************************************************************\n",
            "STANDARD DEVIATION\n",
            "2539.974525115418\n"
          ]
        }
      ],
      "source": [
        "# Example 1: Standard Deviation\n",
        "# Standard deviation is the measurement of average distance between each quantity and mean.\n",
        "# That is, how data is spread out from mean. A low standard deviation indicates that the data points\n",
        "# tend to be close to the mean of the data set, while a high standard deviation indicates that the\n",
        "# data points are spread out over a wider range of values.\n",
        "# There are situations when we have to choose between sample or population Standard Deviation.\n",
        "# When we are asked to find SD of some part of a population, a segment of population;\n",
        "# then we use sample Standard Deviation. But when we have to deal with a whole population,\n",
        "# then we use population Standard Deviation. As you know, in descriptive statistics,\n",
        "# we generally deal with a data available in a sample, not in a population.\n",
        "# ---\n",
        "# Question: What was the standard deviation for the Nakuru Couty Herbicide average prices?\n",
        "# Dataset url = http://bit.ly/NakuruCountyHerbicidePrices\n",
        "# ----\n",
        "#\n",
        "\n",
        "# Loading the dataset\n",
        "nakuru_county_herbicide_prices_df = pd.read_csv(\"http://bit.ly/NakuruCountyHerbicidePrices\")\n",
        "\n",
        "# Previewing the dataset\n",
        "print(nakuru_county_herbicide_prices_df.head())\n",
        "print('*'*70)\n",
        "print('MEAN')\n",
        "print(nakuru_county_herbicide_prices_df['Average_Price'].mean())\n",
        "print('*'*70)\n",
        "print('STANDARD DEVIATION')\n",
        "# Finding the standard deviation\n",
        "print(nakuru_county_herbicide_prices_df[\"Average_Price\"].std())"
      ]
    },
    {
      "cell_type": "code",
      "execution_count": 26,
      "metadata": {
        "id": "P8vUwmx3-8iB",
        "outputId": "01eeda0b-7c6a-41fb-cd8b-1463b6842074",
        "colab": {
          "base_uri": "https://localhost:8080/"
        }
      },
      "outputs": [
        {
          "output_type": "execute_result",
          "data": {
            "text/plain": [
              "6451470.5882352935"
            ]
          },
          "metadata": {},
          "execution_count": 26
        }
      ],
      "source": [
        "# Example 2: Variance\n",
        "# Variance is a square of average distance between each quantity and mean.\n",
        "# That is it is square of standard deviation. It is a measure of how dispersed or spread out the set is,\n",
        "# something that the “average” (mean or median) is not designed to do.\n",
        "# If I tell you a data set has a variance of zero, for example, you know that every member of it is the same.\n",
        "# If the variance is high, especially as a ratio to the mean,\n",
        "# that tells you that the data have some very large dis-similarities amongst its members.\n",
        "# If one considers the mean to be a sort of centre of the data,\n",
        "# the variance tells you how scattered around the centre of mass the points are.\n",
        "# ---\n",
        "# Question: What was the variance of the Nakuru Couty Herbicide average prices?\n",
        "# Dataset url = http://bit.ly/NakuruCountyHerbicidePrices\n",
        "# ---\n",
        "#\n",
        "\n",
        "# Finding the variance of the herbicide average prices\n",
        "nakuru_county_herbicide_prices_df[\"Average_Price\"].var()"
      ]
    },
    {
      "cell_type": "code",
      "execution_count": 27,
      "metadata": {
        "id": "j73naeos2RRR",
        "outputId": "292a689e-2c8f-49db-929b-6f3366f316bc",
        "colab": {
          "base_uri": "https://localhost:8080/"
        }
      },
      "outputs": [
        {
          "output_type": "execute_result",
          "data": {
            "text/plain": [
              "7450"
            ]
          },
          "metadata": {},
          "execution_count": 27
        }
      ],
      "source": [
        "# Examples 3: Range\n",
        "# Range is one of the simplest techniques of descriptive statistics.\n",
        "# It is the difference between lowest and highest value.\n",
        "# ---\n",
        "# Question: What was the range of the Nakuru county herbicide prices?\n",
        "# Dataset url = http://bit.ly/NakuruCountyHerbicidePrices\n",
        "# ---\n",
        "#\n",
        "\n",
        "# Finding the min and max values of the herbicide average prices\n",
        "nakuru_county_herbicide_prices_max = nakuru_county_herbicide_prices_df[\"Average_Price\"].max()\n",
        "nakuru_county_herbicide_prices_min = nakuru_county_herbicide_prices_df[\"Average_Price\"].min()\n",
        "\n",
        "# Calculating the range\n",
        "nakuru_county_herbicide_prices_max - nakuru_county_herbicide_prices_min"
      ]
    },
    {
      "cell_type": "code",
      "execution_count": 28,
      "metadata": {
        "id": "UobGI2kj2Q3Y",
        "outputId": "d01e8705-0bd3-4034-c42f-18e071703db2",
        "colab": {
          "base_uri": "https://localhost:8080/"
        }
      },
      "outputs": [
        {
          "output_type": "execute_result",
          "data": {
            "text/plain": [
              "0.25    1162.5\n",
              "0.50    1875.0\n",
              "0.75    3900.0\n",
              "Name: Average_Price, dtype: float64"
            ]
          },
          "metadata": {},
          "execution_count": 28
        }
      ],
      "source": [
        "# Example 4: Quantiles\n",
        "# In statistics and probability, quartiles are values that divide your data into quarters provided data is sorted in an ascending order.\n",
        "# There are three quartile values. First quartile value is at 25 percentile.\n",
        "# Second quartile is 50 percentile and third quartile is 75 percentile.\n",
        "# Second quartile (Q2) is median of the whole data. First quartile (Q1) is median of upper half of the data.\n",
        "# And Third Quartile (Q3) is median of lower half of the data.\n",
        "# ---\n",
        "# Question: Determine the quantiles of the Nakuru county herbicide prices\n",
        "# Dataset url = http://bit.ly/NakuruCountyHerbicidePrices\n",
        "# ---\n",
        "#\n",
        "\n",
        "# Finding the quantiles of the herbicide average prices\n",
        "nakuru_county_herbicide_prices_df[\"Average_Price\"].quantile([0.25,0.5,0.75])"
      ]
    },
    {
      "cell_type": "code",
      "execution_count": 29,
      "metadata": {
        "id": "j_9rzQpe3UEE",
        "outputId": "2b236220-ac05-4577-cc08-a384bf807040",
        "colab": {
          "base_uri": "https://localhost:8080/"
        }
      },
      "outputs": [
        {
          "output_type": "execute_result",
          "data": {
            "text/plain": [
              "1.0944233329783948"
            ]
          },
          "metadata": {},
          "execution_count": 29
        }
      ],
      "source": [
        "# Examples 5: Skewness\n",
        "# Skewness is a measure of the asymmetry of the probability distribution (http://bit.ly/ProbabilityDistribution)\n",
        "# of a real-valued random variable about its mean. The skewness value can be positive or negative, or undefined.\n",
        "# In a perfect normal distribution, the tails on either side of the curve are exact mirror images of each other.\n",
        "# When a distribution is skewed to the left, the tail on the curve’s left-hand side is longer than the tail on the right-hand side,\n",
        "# and the mean is less than the mode. This situation is also called negative skewness.\n",
        "# When a distribution is skewed to the right, the tail on the curve’s right-hand side is longer than the tail on the left-hand side,\n",
        "# and the mean is greater than the mode. This situation is also called positive skewness.\n",
        "# It is important for researchers from the behavioral and business sciences to measure skewness when it appears in their data.\n",
        "# Great amount of skewness may motivate the data scientist to investigate the existence of outliers.\n",
        "# When making decisions about which measure of location to report and which inferential statistic to employ,\n",
        "# one should take into consideration the estimated skewness of the population.\n",
        "# A negative value means the distribution is negatively skewed. A positive value means the distribution is positively skewed.\n",
        "# ---\n",
        "# Question: Determine the skewness of the Nakuru county herbicide prices.\n",
        "# Dataset url = http://bit.ly/NakuruCountyHerbicidePrices\n",
        "# ---\n",
        "#\n",
        "\n",
        "# Determining the skeweness\n",
        "nakuru_county_herbicide_prices_df[\"Average_Price\"].skew()"
      ]
    },
    {
      "cell_type": "code",
      "execution_count": 30,
      "metadata": {
        "id": "HTwjeGEy3XAB",
        "outputId": "5c9e0c66-299d-4153-944e-25ddce8040c1",
        "colab": {
          "base_uri": "https://localhost:8080/"
        }
      },
      "outputs": [
        {
          "output_type": "execute_result",
          "data": {
            "text/plain": [
              "-0.1522981864221693"
            ]
          },
          "metadata": {},
          "execution_count": 30
        }
      ],
      "source": [
        "# Examples 6: Kurtosis\n",
        "# The exact interpretation of the measure of Kurtosis used to be disputed, but is now settled.\n",
        "# Its about existence of outliers. Kurtosis is a measure of whether the data are heavy-tailed (profusion of outliers)\n",
        "# or light-tailed (lack of outliers) relative to a normal distribution.\n",
        "# There are three types of Kurtosis: Mesokurtic, Leptokurtic, Mesokurtic and Platykurtic.\n",
        "# ***\n",
        "# Mesokurtic is the distribution which has similar kurtosis as normal distribution kurtosis, which is zero.\n",
        "# ***\n",
        "# Leptokurtic is the distribution which has kurtosis greater than a Mesokurtic distribution. Tails of such distributions are thick and heavy.\n",
        "# If the curve of a distribution is more peaked than Mesokurtic curve, it is referred to as a Leptokurtic curve.\n",
        "# ***\n",
        "# Platykurtic is the distribution which has kurtosis lesser than a Mesokurtic distribution. Tails of such distributions thinner.\n",
        "# If a curve of a distribution is less peaked than a Mesokurtic curve, it is referred to as a Platykurtic curve.\n",
        "#\n",
        "# If the kurtosis is close to 0, then a normal distribution is often assumed. These are called mesokurtic distributions.\n",
        "# If the kurtosis is less than zero, then the distribution is light tails and is called a platykurtic distribution.\n",
        "# If the kurtosis is greater than zero, then the distribution has heavier tails and is called a leptokurtic distribution.\n",
        "# ---\n",
        "# Question: Determine the Kurtosis of the Nakuru county herbicide prices\n",
        "# Dataset url = http://bit.ly/NakuruCountyHerbicidePrices\n",
        "# ---\n",
        "#\n",
        "\n",
        "# Determining the skeweness\n",
        "nakuru_county_herbicide_prices_df[\"Average_Price\"].kurt()"
      ]
    },
    {
      "cell_type": "code",
      "execution_count": 31,
      "metadata": {
        "id": "cN5YUpsblCLC",
        "outputId": "c308004d-0871-4e0f-b803-076a17719caf",
        "colab": {
          "base_uri": "https://localhost:8080/"
        }
      },
      "outputs": [
        {
          "output_type": "execute_result",
          "data": {
            "text/plain": [
              "count      18.000000\n",
              "mean     2933.333333\n",
              "std      2539.974525\n",
              "min       550.000000\n",
              "25%      1162.500000\n",
              "50%      1875.000000\n",
              "75%      3900.000000\n",
              "max      8000.000000\n",
              "Name: Average_Price, dtype: float64"
            ]
          },
          "metadata": {},
          "execution_count": 31
        }
      ],
      "source": [
        "# Example 7: Displaying the summary statistics of the dataframe\n",
        "#\n",
        "nakuru_county_herbicide_prices_df['Average_Price'].describe()\n"
      ]
    },
    {
      "cell_type": "markdown",
      "metadata": {
        "id": "xumXllAg5A6N"
      },
      "source": [
        "#### <font color=\"green\">1.32 Challenges</font>"
      ]
    },
    {
      "cell_type": "code",
      "execution_count": 39,
      "metadata": {
        "id": "gXnEzujX5Gi0",
        "colab": {
          "base_uri": "https://localhost:8080/"
        },
        "outputId": "dae6a2e0-a877-471b-e923-03f31c395601"
      },
      "outputs": [
        {
          "output_type": "execute_result",
          "data": {
            "text/plain": [
              "16791.401843156884"
            ]
          },
          "metadata": {},
          "execution_count": 39
        }
      ],
      "source": [
        "# Challenge 1: Standard Deviation\n",
        "# ---\n",
        "# What was the variance of end of reporting month surplus for the 90kg bags?\n",
        "# Dataset url = http://bit.ly/KisumuFoodSecurtyDataset\n",
        "# ---\n",
        "#\n",
        "kisumu_df =pd.read_csv('http://bit.ly/KisumuFoodSecurtyDataset')\n",
        "kisumu_df.head()\n",
        "kisumu_df['End_of_reporting_month_surplus-_90_Kg_bags'].std()"
      ]
    },
    {
      "cell_type": "code",
      "execution_count": 40,
      "metadata": {
        "id": "233fZPZb3aE8",
        "colab": {
          "base_uri": "https://localhost:8080/"
        },
        "outputId": "f6c27be2-a905-4278-c12a-a8c224fb8968"
      },
      "outputs": [
        {
          "output_type": "execute_result",
          "data": {
            "text/plain": [
              "281951175.85837245"
            ]
          },
          "metadata": {},
          "execution_count": 40
        }
      ],
      "source": [
        "# Challenge 2: Variance\n",
        "# ---\n",
        "# What was the variance of end of reporting month surplus for the 90kg bags?\n",
        "# Dataset url = http://bit.ly/KisumuFoodSecurityDataset\n",
        "# ---\n",
        "#\n",
        "kisumu_df['End_of_reporting_month_surplus-_90_Kg_bags'].var()"
      ]
    },
    {
      "cell_type": "code",
      "execution_count": 45,
      "metadata": {
        "id": "0V7cj3tZ5Ive",
        "colab": {
          "base_uri": "https://localhost:8080/"
        },
        "outputId": "51b3831e-63e2-4f93-fc18-9b5edcee247a"
      },
      "outputs": [
        {
          "output_type": "stream",
          "name": "stdout",
          "text": [
            "Range is :  59835\n"
          ]
        }
      ],
      "source": [
        "# Challenge 3: Range\n",
        "# ---\n",
        "# What was the range of end of reporting month surplus for the 90kg bags?\n",
        "# Dataset url = http://bit.ly/KisumuFoodSecurityDataset\n",
        "# ---\n",
        "max = kisumu_df['End_of_reporting_month_surplus-_90_Kg_bags'].max()\n",
        "min = kisumu_df['End_of_reporting_month_surplus-_90_Kg_bags'].min()\n",
        "range = max - min\n",
        "print('Range is : ',range)\n"
      ]
    },
    {
      "cell_type": "code",
      "execution_count": 46,
      "metadata": {
        "id": "goQeGKwvEYTR",
        "colab": {
          "base_uri": "https://localhost:8080/"
        },
        "outputId": "c1de5f64-c777-471e-ccc5-45348ce87bb4"
      },
      "outputs": [
        {
          "output_type": "execute_result",
          "data": {
            "text/plain": [
              "0.25     2412.5\n",
              "0.50     3968.0\n",
              "0.75    24584.0\n",
              "Name: End_of_reporting_month_surplus-_90_Kg_bags, dtype: float64"
            ]
          },
          "metadata": {},
          "execution_count": 46
        }
      ],
      "source": [
        "# Challenge 4: Quantiles\n",
        "# ---\n",
        "# What was the range of end of reporting month surplus for the 90kg bags?\n",
        "# Dataset url = http://bit.ly/KisumuFoodSecurityDataset\n",
        "# ---\n",
        "#\n",
        "kisumu_df['End_of_reporting_month_surplus-_90_Kg_bags'].quantile([0.25,0.5,0.75])"
      ]
    },
    {
      "cell_type": "code",
      "execution_count": 47,
      "metadata": {
        "id": "9i9AaOF-EZ7M",
        "colab": {
          "base_uri": "https://localhost:8080/"
        },
        "outputId": "b9107250-6e6a-41df-9cd1-e256759b6db3"
      },
      "outputs": [
        {
          "output_type": "execute_result",
          "data": {
            "text/plain": [
              "1.1041466566572853"
            ]
          },
          "metadata": {},
          "execution_count": 47
        }
      ],
      "source": [
        "# Challenge 5: Skewness\n",
        "# ---\n",
        "# What was the skewness of end of reporting month surplus for the 90kg bags?\n",
        "# Dataset url = http://bit.ly/KisumuFoodSecurityDataset\n",
        "# ---\n",
        "kisumu_df['End_of_reporting_month_surplus-_90_Kg_bags'].skew()"
      ]
    },
    {
      "cell_type": "code",
      "execution_count": 49,
      "metadata": {
        "id": "jJG08eSTEbG6",
        "colab": {
          "base_uri": "https://localhost:8080/"
        },
        "outputId": "58b1937f-77e3-465f-9907-12a6331ad230"
      },
      "outputs": [
        {
          "output_type": "execute_result",
          "data": {
            "text/plain": [
              "-0.007825909487768179"
            ]
          },
          "metadata": {},
          "execution_count": 49
        }
      ],
      "source": [
        "# Challenge 6: Kurtosis\n",
        "# ---\n",
        "# Find the kurtosis of end of reporting month surplus for the 90kg bags?\n",
        "# Dataset url = http://bit.ly/KisumuFoodSecurityDataset\n",
        "# ---\n",
        "kisumu_df['End_of_reporting_month_surplus-_90_Kg_bags'].kurt()"
      ]
    },
    {
      "cell_type": "markdown",
      "metadata": {
        "id": "kKZFF5-Q6d5c"
      },
      "source": [
        "### 1.33 Visualisation Techniques"
      ]
    },
    {
      "cell_type": "markdown",
      "metadata": {
        "id": "32s_izI76icw"
      },
      "source": [
        "#### 1.41 Box Plots"
      ]
    },
    {
      "cell_type": "code",
      "execution_count": 50,
      "metadata": {
        "id": "Cf_cAZET6iHd",
        "colab": {
          "base_uri": "https://localhost:8080/",
          "height": 411
        },
        "outputId": "1b98ba65-6075-49af-ed36-9f53129a216c"
      },
      "outputs": [
        {
          "output_type": "display_data",
          "data": {
            "text/plain": [
              "<Figure size 640x480 with 1 Axes>"
            ],
            "image/png": "[encoded data removed]"
          },
          "metadata": {}
        }
      ],
      "source": [
        "# Example 1\n",
        "# A boxplot is a standardized way of displaying the distribution of data based on a\n",
        "# five number summary (“minimum”, first quartile (Q1), median, third quartile (Q3), and “maximum”).\n",
        "# It can tell you about your outliers and what their values are. It can also tell you if your data is symmetrical,\n",
        "# how tightly your data is grouped, and if and how your data is skewed.\n",
        "# ---\n",
        "# Question: Plot a box plot of the average herbicide price\n",
        "# Dataset url = http://bit.ly/Kisumu-crop-statistics\n",
        "# ---\n",
        "#\n",
        "\n",
        "# Creating the boxplot\n",
        "#\n",
        "sns.boxplot(nakuru_county_herbicide_prices_df[\"Average_Price\"], showmeans=True);\n"
      ]
    },
    {
      "cell_type": "code",
      "execution_count": 60,
      "metadata": {
        "id": "QcI9bqIq68t3",
        "colab": {
          "base_uri": "https://localhost:8080/",
          "height": 430
        },
        "outputId": "b3d1c3f4-069d-4d98-8743-65ffabc6dde4"
      },
      "outputs": [
        {
          "output_type": "display_data",
          "data": {
            "text/plain": [
              "<Figure size 640x480 with 1 Axes>"
            ],
            "image/png": "[encoded data removed]"
          },
          "metadata": {}
        }
      ],
      "source": [
        "# Example 2\n",
        "# ---\n",
        "# Question: Using pandas, create a boxplot of the target yield bags per hectare during the long rains.\n",
        "# Dataset url = http://bit.ly/Kisumu-crop-statistics\n",
        "# ---\n",
        "#\n",
        "\n",
        "# Creating the boxplot\n",
        "#\n",
        "kisumu_crop_statistics_df.boxplot([\"TARGET_YIELD__BAG/HA_LONG_RAINS\"]);"
      ]
    },
    {
      "cell_type": "markdown",
      "metadata": {
        "id": "DHNDapES6-4D"
      },
      "source": [
        "##### <font color=\"green\">1.41 Challenges</font>"
      ]
    },
    {
      "cell_type": "code",
      "execution_count": 64,
      "metadata": {
        "id": "Np_EB-2g7EjP",
        "colab": {
          "base_uri": "https://localhost:8080/",
          "height": 430
        },
        "outputId": "7e913b73-d09b-4f93-c46f-4abeb3cce1c6"
      },
      "outputs": [
        {
          "output_type": "display_data",
          "data": {
            "text/plain": [
              "<Figure size 640x480 with 1 Axes>"
            ],
            "image/png": "[encoded data removed]"
          },
          "metadata": {}
        }
      ],
      "source": [
        "# Challenge 1\n",
        "# ---\n",
        "# Question: Using pandas, create a boxplot of the target area per hectare during the short rains.\n",
        "# Dataset url = http://bit.ly/Kisumu-crop-statistics\n",
        "# ---\n",
        "#\n",
        "kisumu_crop_statistics_df.boxplot(['TARGET_AREA_HA_SHORT_RAINS']);"
      ]
    },
    {
      "cell_type": "code",
      "execution_count": 65,
      "metadata": {
        "id": "woDc6x7z7Jhf",
        "colab": {
          "base_uri": "https://localhost:8080/",
          "height": 430
        },
        "outputId": "73a12e6b-c1cb-429a-ad9b-b65f73d8ea1c"
      },
      "outputs": [
        {
          "output_type": "display_data",
          "data": {
            "text/plain": [
              "<Figure size 640x480 with 1 Axes>"
            ],
            "image/png": "[encoded data removed]"
          },
          "metadata": {}
        }
      ],
      "source": [
        "# Challenge 2\n",
        "# ---\n",
        "# Question: Using pandas, create a boxplot of the target production bags the long rains.\n",
        "# Dataset url = http://bit.ly/Kisumu-crop-statistics\n",
        "# ---\n",
        "#\n",
        "kisumu_crop_statistics_df.boxplot(['TARGET_PRODUCTION_BAGS_LONG_RAINS']);\n"
      ]
    },
    {
      "cell_type": "markdown",
      "metadata": {
        "id": "NqN2REVg6xM7"
      },
      "source": [
        "#### 1.42 More Histograms"
      ]
    },
    {
      "cell_type": "code",
      "execution_count": 66,
      "metadata": {
        "id": "cGxxrtln66MY",
        "colab": {
          "base_uri": "https://localhost:8080/",
          "height": 448
        },
        "outputId": "b5cccebf-af72-409b-9a0e-79c24301e73d"
      },
      "outputs": [
        {
          "output_type": "execute_result",
          "data": {
            "text/plain": [
              "<Axes: >"
            ]
          },
          "metadata": {},
          "execution_count": 66
        },
        {
          "output_type": "display_data",
          "data": {
            "text/plain": [
              "<Figure size 640x480 with 1 Axes>"
            ],
            "image/png": "[encoded data removed]"
          },
          "metadata": {}
        }
      ],
      "source": [
        "# Example 1\n",
        "# ---\n",
        "# Question: Plot a histogram of target area during long rains in kisumu county.\n",
        "# Dataset url = http://bit.ly/Kisumu-crop-statistics\n",
        "# ---\n",
        "#\n",
        "\n",
        "# Plotting the histogram\n",
        "#\n",
        "kisumu_crop_statistics_df['TARGET_AREA_HA_LONG_RAINS'].hist()"
      ]
    },
    {
      "cell_type": "code",
      "execution_count": 67,
      "metadata": {
        "id": "31CPj4mFH2X2",
        "colab": {
          "base_uri": "https://localhost:8080/",
          "height": 307
        },
        "outputId": "4d0d2110-dc5c-42f6-9c22-e89f5ebba77c"
      },
      "outputs": [
        {
          "output_type": "execute_result",
          "data": {
            "text/plain": [
              "    SUB-COUNTY PRODUCE  TARGET_AREA_HA_LONG_RAINS  TARGET_AREA_HA_SHORT_RAINS  \\\n",
              "0  KISUMU WEST   Maize                       8000                        5000   \n",
              "1         SEME   Maize                       8000                        3500   \n",
              "2     KISUMU E   Maize                       1500                         750   \n",
              "3       NYANDO   Maize                       8200                        4000   \n",
              "4      NYAKACH   Maize                      10500                        4500   \n",
              "\n",
              "   TARGET_TOTAL_  TARGET_YIELD__BAG/HA_LONG_RAINS  \\\n",
              "0           6700                               25   \n",
              "1          13000                               25   \n",
              "2           2250                               25   \n",
              "3          12200                               25   \n",
              "4          15000                               25   \n",
              "\n",
              "   TARGET_YIELD__BAG/HA_SHORT_RAINS  TARGET_PRODUCTION_BAGS_LONG_RAINS  \\\n",
              "0                                20                             200000   \n",
              "1                                20                             200000   \n",
              "2                                20                              37500   \n",
              "3                                20                             205000   \n",
              "4                                20                             262500   \n",
              "\n",
              "   TARGET_PRODUCTION_BAGS_SHORT_RAINS  TARGET_PRODUCTION_BAGS_TOTAL  ...  \\\n",
              "0                              100000                        300000  ...   \n",
              "1                               70000                        270000  ...   \n",
              "2                               15000                         52500  ...   \n",
              "3                               80000                        285000  ...   \n",
              "4                               90000                        352500  ...   \n",
              "\n",
              "   PROJECTED___PRODUCTION_BAGS_OF_90KG_EACH__LR  \\\n",
              "0                                         21670   \n",
              "1                                         19800   \n",
              "2                                          4015   \n",
              "3                                         21010   \n",
              "4                                         26125   \n",
              "\n",
              "   PROJECTED___PRODUCTION_BAGS_OF_90KG_EACH__SR  \\\n",
              "0                                       25000.0   \n",
              "1                                       17500.0   \n",
              "2                                        3750.0   \n",
              "3                                       20000.0   \n",
              "4                                       22500.0   \n",
              "\n",
              "   PROJECTED___PRODUCTION_BAGS_OF_90KG_EACH__TOTAL  PRICES_KSH/BAG_LONG_RAINS  \\\n",
              "0                                            46670                          0   \n",
              "1                                            37300                          0   \n",
              "2                                             7765                          0   \n",
              "3                                            41010                          0   \n",
              "4                                            48625                          0   \n",
              "\n",
              "   PRICES_KSH/BAG_SHORT_RAINS  VALUE_KSH__LONG_RAINS  VALUE_KSH_SHORT_RAINS  \\\n",
              "0                           0                      0                      0   \n",
              "1                           0                      0                      0   \n",
              "2                           0                      0                      0   \n",
              "3                           0                      0                      0   \n",
              "4                           0                      0                      0   \n",
              "\n",
              "   VALUE_KSH_TOTAL     DATE  OBJECTID  \n",
              "0                0  9/16/16         0  \n",
              "1                0  9/16/16         1  \n",
              "2                0  9/16/16         2  \n",
              "3                0  9/16/16         3  \n",
              "4                0  9/16/16         4  \n",
              "\n",
              "[5 rows x 25 columns]"
            ],
            "text/html": [
              "\n",
              "  <div id=\"df-66a4fe47-c9c7-4fee-875c-40ac9a8a99c3\" class=\"colab-df-container\">\n",
              "    <div>\n",
              "<style scoped>\n",
              "    .dataframe tbody tr th:only-of-type {\n",
              "        vertical-align: middle;\n",
              "    }\n",
              "\n",
              "    .dataframe tbody tr th {\n",
              "        vertical-align: top;\n",
              "    }\n",
              "\n",
              "    .dataframe thead th {\n",
              "        text-align: right;\n",
              "    }\n",
              "</style>\n",
              "<table border=\"1\" class=\"dataframe\">\n",
              "  <thead>\n",
              "    <tr style=\"text-align: right;\">\n",
              "      <th></th>\n",
              "      <th>SUB-COUNTY</th>\n",
              "      <th>PRODUCE</th>\n",
              "      <th>TARGET_AREA_HA_LONG_RAINS</th>\n",
              "      <th>TARGET_AREA_HA_SHORT_RAINS</th>\n",
              "      <th>TARGET_TOTAL_</th>\n",
              "      <th>TARGET_YIELD__BAG/HA_LONG_RAINS</th>\n",
              "      <th>TARGET_YIELD__BAG/HA_SHORT_RAINS</th>\n",
              "      <th>TARGET_PRODUCTION_BAGS_LONG_RAINS</th>\n",
              "      <th>TARGET_PRODUCTION_BAGS_SHORT_RAINS</th>\n",
              "      <th>TARGET_PRODUCTION_BAGS_TOTAL</th>\n",
              "      <th>...</th>\n",
              "      <th>PROJECTED___PRODUCTION_BAGS_OF_90KG_EACH__LR</th>\n",
              "      <th>PROJECTED___PRODUCTION_BAGS_OF_90KG_EACH__SR</th>\n",
              "      <th>PROJECTED___PRODUCTION_BAGS_OF_90KG_EACH__TOTAL</th>\n",
              "      <th>PRICES_KSH/BAG_LONG_RAINS</th>\n",
              "      <th>PRICES_KSH/BAG_SHORT_RAINS</th>\n",
              "      <th>VALUE_KSH__LONG_RAINS</th>\n",
              "      <th>VALUE_KSH_SHORT_RAINS</th>\n",
              "      <th>VALUE_KSH_TOTAL</th>\n",
              "      <th>DATE</th>\n",
              "      <th>OBJECTID</th>\n",
              "    </tr>\n",
              "  </thead>\n",
              "  <tbody>\n",
              "    <tr>\n",
              "      <th>0</th>\n",
              "      <td>KISUMU WEST</td>\n",
              "      <td>Maize</td>\n",
              "      <td>8000</td>\n",
              "      <td>5000</td>\n",
              "      <td>6700</td>\n",
              "      <td>25</td>\n",
              "      <td>20</td>\n",
              "      <td>200000</td>\n",
              "      <td>100000</td>\n",
              "      <td>300000</td>\n",
              "      <td>...</td>\n",
              "      <td>21670</td>\n",
              "      <td>25000.0</td>\n",
              "      <td>46670</td>\n",
              "      <td>0</td>\n",
              "      <td>0</td>\n",
              "      <td>0</td>\n",
              "      <td>0</td>\n",
              "      <td>0</td>\n",
              "      <td>9/16/16</td>\n",
              "      <td>0</td>\n",
              "    </tr>\n",
              "    <tr>\n",
              "      <th>1</th>\n",
              "      <td>SEME</td>\n",
              "      <td>Maize</td>\n",
              "      <td>8000</td>\n",
              "      <td>3500</td>\n",
              "      <td>13000</td>\n",
              "      <td>25</td>\n",
              "      <td>20</td>\n",
              "      <td>200000</td>\n",
              "      <td>70000</td>\n",
              "      <td>270000</td>\n",
              "      <td>...</td>\n",
              "      <td>19800</td>\n",
              "      <td>17500.0</td>\n",
              "      <td>37300</td>\n",
              "      <td>0</td>\n",
              "      <td>0</td>\n",
              "      <td>0</td>\n",
              "      <td>0</td>\n",
              "      <td>0</td>\n",
              "      <td>9/16/16</td>\n",
              "      <td>1</td>\n",
              "    </tr>\n",
              "    <tr>\n",
              "      <th>2</th>\n",
              "      <td>KISUMU E</td>\n",
              "      <td>Maize</td>\n",
              "      <td>1500</td>\n",
              "      <td>750</td>\n",
              "      <td>2250</td>\n",
              "      <td>25</td>\n",
              "      <td>20</td>\n",
              "      <td>37500</td>\n",
              "      <td>15000</td>\n",
              "      <td>52500</td>\n",
              "      <td>...</td>\n",
              "      <td>4015</td>\n",
              "      <td>3750.0</td>\n",
              "      <td>7765</td>\n",
              "      <td>0</td>\n",
              "      <td>0</td>\n",
              "      <td>0</td>\n",
              "      <td>0</td>\n",
              "      <td>0</td>\n",
              "      <td>9/16/16</td>\n",
              "      <td>2</td>\n",
              "    </tr>\n",
              "    <tr>\n",
              "      <th>3</th>\n",
              "      <td>NYANDO</td>\n",
              "      <td>Maize</td>\n",
              "      <td>8200</td>\n",
              "      <td>4000</td>\n",
              "      <td>12200</td>\n",
              "      <td>25</td>\n",
              "      <td>20</td>\n",
              "      <td>205000</td>\n",
              "      <td>80000</td>\n",
              "      <td>285000</td>\n",
              "      <td>...</td>\n",
              "      <td>21010</td>\n",
              "      <td>20000.0</td>\n",
              "      <td>41010</td>\n",
              "      <td>0</td>\n",
              "      <td>0</td>\n",
              "      <td>0</td>\n",
              "      <td>0</td>\n",
              "      <td>0</td>\n",
              "      <td>9/16/16</td>\n",
              "      <td>3</td>\n",
              "    </tr>\n",
              "    <tr>\n",
              "      <th>4</th>\n",
              "      <td>NYAKACH</td>\n",
              "      <td>Maize</td>\n",
              "      <td>10500</td>\n",
              "      <td>4500</td>\n",
              "      <td>15000</td>\n",
              "      <td>25</td>\n",
              "      <td>20</td>\n",
              "      <td>262500</td>\n",
              "      <td>90000</td>\n",
              "      <td>352500</td>\n",
              "      <td>...</td>\n",
              "      <td>26125</td>\n",
              "      <td>22500.0</td>\n",
              "      <td>48625</td>\n",
              "      <td>0</td>\n",
              "      <td>0</td>\n",
              "      <td>0</td>\n",
              "      <td>0</td>\n",
              "      <td>0</td>\n",
              "      <td>9/16/16</td>\n",
              "      <td>4</td>\n",
              "    </tr>\n",
              "  </tbody>\n",
              "</table>\n",
              "<p>5 rows × 25 columns</p>\n",
              "</div>\n",
              "    <div class=\"colab-df-buttons\">\n",
              "\n",
              "  <div class=\"colab-df-container\">\n",
              "    <button class=\"colab-df-convert\" onclick=\"convertToInteractive('df-66a4fe47-c9c7-4fee-875c-40ac9a8a99c3')\"\n",
              "            title=\"Convert this dataframe to an interactive table.\"\n",
              "            style=\"display:none;\">\n",
              "\n",
              "  <svg xmlns=\"http://www.w3.org/2000/svg\" height=\"24px\" viewBox=\"0 -960 960 960\">\n",
              "    <path d=\"M120-120v-720h720v720H120Zm60-500h600v-160H180v160Zm220 220h160v-160H400v160Zm0 220h160v-160H400v160ZM180-400h160v-160H180v160Zm440 0h160v-160H620v160ZM180-180h160v-160H180v160Zm440 0h160v-160H620v160Z\"/>\n",
              "  </svg>\n",
              "    </button>\n",
              "\n",
              "  <style>\n",
              "    .colab-df-container {\n",
              "      display:flex;\n",
              "      gap: 12px;\n",
              "    }\n",
              "\n",
              "    .colab-df-convert {\n",
              "      background-color: #E8F0FE;\n",
              "      border: none;\n",
              "      border-radius: 50%;\n",
              "      cursor: pointer;\n",
              "      display: none;\n",
              "      fill: #1967D2;\n",
              "      height: 32px;\n",
              "      padding: 0 0 0 0;\n",
              "      width: 32px;\n",
              "    }\n",
              "\n",
              "    .colab-df-convert:hover {\n",
              "      background-color: #E2EBFA;\n",
              "      box-shadow: 0px 1px 2px rgba(60, 64, 67, 0.3), 0px 1px 3px 1px rgba(60, 64, 67, 0.15);\n",
              "      fill: #174EA6;\n",
              "    }\n",
              "\n",
              "    .colab-df-buttons div {\n",
              "      margin-bottom: 4px;\n",
              "    }\n",
              "\n",
              "    [theme=dark] .colab-df-convert {\n",
              "      background-color: #3B4455;\n",
              "      fill: #D2E3FC;\n",
              "    }\n",
              "\n",
              "    [theme=dark] .colab-df-convert:hover {\n",
              "      background-color: #434B5C;\n",
              "      box-shadow: 0px 1px 3px 1px rgba(0, 0, 0, 0.15);\n",
              "      filter: drop-shadow(0px 1px 2px rgba(0, 0, 0, 0.3));\n",
              "      fill: #FFFFFF;\n",
              "    }\n",
              "  </style>\n",
              "\n",
              "    <script>\n",
              "      const buttonEl =\n",
              "        document.querySelector('#df-66a4fe47-c9c7-4fee-875c-40ac9a8a99c3 button.colab-df-convert');\n",
              "      buttonEl.style.display =\n",
              "        google.colab.kernel.accessAllowed ? 'block' : 'none';\n",
              "\n",
              "      async function convertToInteractive(key) {\n",
              "        const element = document.querySelector('#df-66a4fe47-c9c7-4fee-875c-40ac9a8a99c3');\n",
              "        const dataTable =\n",
              "          await google.colab.kernel.invokeFunction('convertToInteractive',\n",
              "                                                    [key], {});\n",
              "        if (!dataTable) return;\n",
              "\n",
              "        const docLinkHtml = 'Like what you see? Visit the ' +\n",
              "          '<a target=\"_blank\" href=https://colab.research.google.com/notebooks/data_table.ipynb>data table notebook</a>'\n",
              "          + ' to learn more about interactive tables.';\n",
              "        element.innerHTML = '';\n",
              "        dataTable['output_type'] = 'display_data';\n",
              "        await google.colab.output.renderOutput(dataTable, element);\n",
              "        const docLink = document.createElement('div');\n",
              "        docLink.innerHTML = docLinkHtml;\n",
              "        element.appendChild(docLink);\n",
              "      }\n",
              "    </script>\n",
              "  </div>\n",
              "\n",
              "\n",
              "<div id=\"df-bff28b2b-1bc4-4c0d-84d1-eb5bbb917e22\">\n",
              "  <button class=\"colab-df-quickchart\" onclick=\"quickchart('df-bff28b2b-1bc4-4c0d-84d1-eb5bbb917e22')\"\n",
              "            title=\"Suggest charts\"\n",
              "            style=\"display:none;\">\n",
              "\n",
              "<svg xmlns=\"http://www.w3.org/2000/svg\" height=\"24px\"viewBox=\"0 0 24 24\"\n",
              "     width=\"24px\">\n",
              "    <g>\n",
              "        <path d=\"M19 3H5c-1.1 0-2 .9-2 2v14c0 1.1.9 2 2 2h14c1.1 0 2-.9 2-2V5c0-1.1-.9-2-2-2zM9 17H7v-7h2v7zm4 0h-2V7h2v10zm4 0h-2v-4h2v4z\"/>\n",
              "    </g>\n",
              "</svg>\n",
              "  </button>\n",
              "\n",
              "<style>\n",
              "  .colab-df-quickchart {\n",
              "      --bg-color: #E8F0FE;\n",
              "      --fill-color: #1967D2;\n",
              "      --hover-bg-color: #E2EBFA;\n",
              "      --hover-fill-color: #174EA6;\n",
              "      --disabled-fill-color: #AAA;\n",
              "      --disabled-bg-color: #DDD;\n",
              "  }\n",
              "\n",
              "  [theme=dark] .colab-df-quickchart {\n",
              "      --bg-color: #3B4455;\n",
              "      --fill-color: #D2E3FC;\n",
              "      --hover-bg-color: #434B5C;\n",
              "      --hover-fill-color: #FFFFFF;\n",
              "      --disabled-bg-color: #3B4455;\n",
              "      --disabled-fill-color: #666;\n",
              "  }\n",
              "\n",
              "  .colab-df-quickchart {\n",
              "    background-color: var(--bg-color);\n",
              "    border: none;\n",
              "    border-radius: 50%;\n",
              "    cursor: pointer;\n",
              "    display: none;\n",
              "    fill: var(--fill-color);\n",
              "    height: 32px;\n",
              "    padding: 0;\n",
              "    width: 32px;\n",
              "  }\n",
              "\n",
              "  .colab-df-quickchart:hover {\n",
              "    background-color: var(--hover-bg-color);\n",
              "    box-shadow: 0 1px 2px rgba(60, 64, 67, 0.3), 0 1px 3px 1px rgba(60, 64, 67, 0.15);\n",
              "    fill: var(--button-hover-fill-color);\n",
              "  }\n",
              "\n",
              "  .colab-df-quickchart-complete:disabled,\n",
              "  .colab-df-quickchart-complete:disabled:hover {\n",
              "    background-color: var(--disabled-bg-color);\n",
              "    fill: var(--disabled-fill-color);\n",
              "    box-shadow: none;\n",
              "  }\n",
              "\n",
              "  .colab-df-spinner {\n",
              "    border: 2px solid var(--fill-color);\n",
              "    border-color: transparent;\n",
              "    border-bottom-color: var(--fill-color);\n",
              "    animation:\n",
              "      spin 1s steps(1) infinite;\n",
              "  }\n",
              "\n",
              "  @keyframes spin {\n",
              "    0% {\n",
              "      border-color: transparent;\n",
              "      border-bottom-color: var(--fill-color);\n",
              "      border-left-color: var(--fill-color);\n",
              "    }\n",
              "    20% {\n",
              "      border-color: transparent;\n",
              "      border-left-color: var(--fill-color);\n",
              "      border-top-color: var(--fill-color);\n",
              "    }\n",
              "    30% {\n",
              "      border-color: transparent;\n",
              "      border-left-color: var(--fill-color);\n",
              "      border-top-color: var(--fill-color);\n",
              "      border-right-color: var(--fill-color);\n",
              "    }\n",
              "    40% {\n",
              "      border-color: transparent;\n",
              "      border-right-color: var(--fill-color);\n",
              "      border-top-color: var(--fill-color);\n",
              "    }\n",
              "    60% {\n",
              "      border-color: transparent;\n",
              "      border-right-color: var(--fill-color);\n",
              "    }\n",
              "    80% {\n",
              "      border-color: transparent;\n",
              "      border-right-color: var(--fill-color);\n",
              "      border-bottom-color: var(--fill-color);\n",
              "    }\n",
              "    90% {\n",
              "      border-color: transparent;\n",
              "      border-bottom-color: var(--fill-color);\n",
              "    }\n",
              "  }\n",
              "</style>\n",
              "\n",
              "  <script>\n",
              "    async function quickchart(key) {\n",
              "      const quickchartButtonEl =\n",
              "        document.querySelector('#' + key + ' button');\n",
              "      quickchartButtonEl.disabled = true;  // To prevent multiple clicks.\n",
              "      quickchartButtonEl.classList.add('colab-df-spinner');\n",
              "      try {\n",
              "        const charts = await google.colab.kernel.invokeFunction(\n",
              "            'suggestCharts', [key], {});\n",
              "      } catch (error) {\n",
              "        console.error('Error during call to suggestCharts:', error);\n",
              "      }\n",
              "      quickchartButtonEl.classList.remove('colab-df-spinner');\n",
              "      quickchartButtonEl.classList.add('colab-df-quickchart-complete');\n",
              "    }\n",
              "    (() => {\n",
              "      let quickchartButtonEl =\n",
              "        document.querySelector('#df-bff28b2b-1bc4-4c0d-84d1-eb5bbb917e22 button');\n",
              "      quickchartButtonEl.style.display =\n",
              "        google.colab.kernel.accessAllowed ? 'block' : 'none';\n",
              "    })();\n",
              "  </script>\n",
              "</div>\n",
              "\n",
              "    </div>\n",
              "  </div>\n"
            ],
            "application/vnd.google.colaboratory.intrinsic+json": {
              "type": "dataframe",
              "variable_name": "kisumu_crop_statistics_df"
            }
          },
          "metadata": {},
          "execution_count": 67
        }
      ],
      "source": [
        "kisumu_crop_statistics_df.head()"
      ]
    },
    {
      "cell_type": "code",
      "execution_count": 71,
      "metadata": {
        "id": "jZ_y-wGN7Pro",
        "colab": {
          "base_uri": "https://localhost:8080/",
          "height": 449
        },
        "outputId": "6d409706-1c5d-4130-f27c-cdee3fa1e938"
      },
      "outputs": [
        {
          "output_type": "display_data",
          "data": {
            "text/plain": [
              "<Figure size 640x480 with 1 Axes>"
            ],
            "image/png": "[encoded data removed]"
          },
          "metadata": {}
        }
      ],
      "source": [
        "# Example 2\n",
        "# ---\n",
        "# Question: Using Seaborn, Plot a histogram of target area for maize during long rains in kisumu county\n",
        "# ---\n",
        "#\n",
        "\n",
        "# Plotting our histogram\n",
        "#\n",
        "df = kisumu_crop_statistics_df[kisumu_crop_statistics_df.PRODUCE == 'Maize']\n",
        "sns.histplot(kisumu_crop_statistics_df['TARGET_AREA_HA_LONG_RAINS'],  kde=True,label='Maize');"
      ]
    },
    {
      "cell_type": "markdown",
      "metadata": {
        "id": "uXIKUeun7Tz6"
      },
      "source": [
        "#### <font color=\"green\">1.43 Challenges</font>"
      ]
    },
    {
      "cell_type": "code",
      "execution_count": 73,
      "metadata": {
        "id": "c20egYFA7ZQA",
        "colab": {
          "base_uri": "https://localhost:8080/",
          "height": 448
        },
        "outputId": "363c14fa-a6ff-4b90-c8df-25820b6a5887"
      },
      "outputs": [
        {
          "output_type": "execute_result",
          "data": {
            "text/plain": [
              "<Axes: >"
            ]
          },
          "metadata": {},
          "execution_count": 73
        },
        {
          "output_type": "display_data",
          "data": {
            "text/plain": [
              "<Figure size 640x480 with 1 Axes>"
            ],
            "image/png": "[encoded data removed]"
          },
          "metadata": {}
        }
      ],
      "source": [
        "# Challenge 1\n",
        "# ---\n",
        "# Question: Plot a histogram of weight in kgs for fish production\n",
        "# Dataset url = \"http://bit.ly/Kisumu-fish-production\"\n",
        "# ---\n",
        "#\n",
        "kisumu_fish_production_df['WEIGHT_KGS'].hist()\n"
      ]
    },
    {
      "cell_type": "code",
      "execution_count": 78,
      "metadata": {
        "id": "8_NmsQOu7aTW",
        "colab": {
          "base_uri": "https://localhost:8080/",
          "height": 448
        },
        "outputId": "9e7b2f2c-4baa-42f7-b1a1-0ca89c18d727"
      },
      "outputs": [
        {
          "output_type": "execute_result",
          "data": {
            "text/plain": [
              "<Axes: >"
            ]
          },
          "metadata": {},
          "execution_count": 78
        },
        {
          "output_type": "display_data",
          "data": {
            "text/plain": [
              "<Figure size 640x480 with 1 Axes>"
            ],
            "image/png": "[encoded data removed]"
          },
          "metadata": {}
        }
      ],
      "source": [
        "# Challenge 2\n",
        "# ---\n",
        "# Question: Plot a histogram of target yield bags during short rains.\n",
        "# Dataset url = \"http://bit.ly/Kisumu-crop-statistics\"\n",
        "# ---\n",
        "kisumu_crop_statistics_df['TARGET_AREA_HA_SHORT_RAINS'].hist()"
      ]
    },
    {
      "cell_type": "markdown",
      "metadata": {
        "id": "y2tpmU6oFKHX"
      },
      "source": []
    }
  ],
  "metadata": {
    "colab": {
      "collapsed_sections": [
        "kLkivweO1Iii",
        "InrgA2D21MCl",
        "0CRs-dFC1ohx",
        "ck0zE_a43uV-",
        "NCrhoYJz1dUY",
        "jRKV0pa04BQH",
        "yXH8QAl71vLq",
        "6lNbN0xS4XAY",
        "QIuhupEZ1y_S",
        "GqietlVA2BUa",
        "Z6im-o4g4pK6",
        "8POt4f4D2LcH",
        "xumXllAg5A6N",
        "kKZFF5-Q6d5c",
        "32s_izI76icw",
        "DHNDapES6-4D",
        "NqN2REVg6xM7",
        "uXIKUeun7Tz6"
      ],
      "provenance": []
    },
    "kernelspec": {
      "display_name": "Python 3.9.7 ('base')",
      "language": "python",
      "name": "python3"
    },
    "language_info": {
      "codemirror_mode": {
        "name": "ipython",
        "version": 3
      },
      "file_extension": ".py",
      "mimetype": "text/x-python",
      "name": "python",
      "nbconvert_exporter": "python",
      "pygments_lexer": "ipython3",
      "version": "3.9.7"
    },
    "vscode": {
      "interpreter": {
        "hash": "d42b4d1d880f00ade70537ec7b69c42e67ceea6fe1f86bf0f8499295f0cb4e8f"
      }
    }
  },
  "nbformat": 4,
  "nbformat_minor": 0
}